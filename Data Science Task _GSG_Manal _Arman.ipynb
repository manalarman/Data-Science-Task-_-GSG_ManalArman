{
 "cells": [
  {
   "cell_type": "markdown",
   "id": "cd2cecdc",
   "metadata": {},
   "source": [
    "                                                                                                              Manal Arman"
   ]
  },
  {
   "cell_type": "markdown",
   "id": "87d47a30",
   "metadata": {},
   "source": [
    " # <div class=\"alert alert-danger\">Data Science Task _ GSG</div>  \n",
    " ##  <font color=indianred> ***Analyzing the IMDB Dataset of Top 1000 Movies and TV Shows using Pandas:*** </font> "
   ]
  },
  {
   "cell_type": "markdown",
   "id": "fb116e3c",
   "metadata": {},
   "source": [
    "#### <div class=\"alert alert-danger\">1. Download the IMDB dataset of top 1000 movies and TV shows from Kaggle and load it into a pandas dataframe using the read_csv() function.</div>  "
   ]
  },
  {
   "cell_type": "code",
   "execution_count": 1,
   "id": "2d780a6e",
   "metadata": {},
   "outputs": [
    {
     "data": {
      "text/plain": [
       "(1000, 16)"
      ]
     },
     "execution_count": 1,
     "metadata": {},
     "output_type": "execute_result"
    }
   ],
   "source": [
    "#import all needed libraries:\n",
    "import pandas as pd\n",
    "import numpy as np\n",
    "import seaborn as sns\n",
    "import matplotlib.pyplot as plt\n",
    "\n",
    "# load IMDB dataset into a pandas dataframe using the read_csv() method:\n",
    "movies_TV_shows_df= pd.read_csv(r\"C:\\Users\\HP\\Downloads\\archive\\imdb_top_1000.csv\")\n",
    "# make a copy of the original dataframe to work on it:\n",
    "movies_df=movies_TV_shows_df.copy()\n",
    "# Find out the total rows and columns of the given DataFrame:\n",
    "movies_df.shape"
   ]
  },
  {
   "cell_type": "code",
   "execution_count": 2,
   "id": "19ca0edc",
   "metadata": {},
   "outputs": [
    {
     "data": {
      "text/html": [
       "<div>\n",
       "<style scoped>\n",
       "    .dataframe tbody tr th:only-of-type {\n",
       "        vertical-align: middle;\n",
       "    }\n",
       "\n",
       "    .dataframe tbody tr th {\n",
       "        vertical-align: top;\n",
       "    }\n",
       "\n",
       "    .dataframe thead th {\n",
       "        text-align: right;\n",
       "    }\n",
       "</style>\n",
       "<table border=\"1\" class=\"dataframe\">\n",
       "  <thead>\n",
       "    <tr style=\"text-align: right;\">\n",
       "      <th></th>\n",
       "      <th>Poster_Link</th>\n",
       "      <th>Series_Title</th>\n",
       "      <th>Released_Year</th>\n",
       "      <th>Certificate</th>\n",
       "      <th>Runtime</th>\n",
       "      <th>Genre</th>\n",
       "      <th>IMDB_Rating</th>\n",
       "      <th>Overview</th>\n",
       "      <th>Meta_score</th>\n",
       "      <th>Director</th>\n",
       "      <th>Star1</th>\n",
       "      <th>Star2</th>\n",
       "      <th>Star3</th>\n",
       "      <th>Star4</th>\n",
       "      <th>No_of_Votes</th>\n",
       "      <th>Gross</th>\n",
       "    </tr>\n",
       "  </thead>\n",
       "  <tbody>\n",
       "    <tr>\n",
       "      <th>0</th>\n",
       "      <td>https://m.media-amazon.com/images/M/MV5BMDFkYT...</td>\n",
       "      <td>The Shawshank Redemption</td>\n",
       "      <td>1994</td>\n",
       "      <td>A</td>\n",
       "      <td>142 min</td>\n",
       "      <td>Drama</td>\n",
       "      <td>9.3</td>\n",
       "      <td>Two imprisoned men bond over a number of years...</td>\n",
       "      <td>80.0</td>\n",
       "      <td>Frank Darabont</td>\n",
       "      <td>Tim Robbins</td>\n",
       "      <td>Morgan Freeman</td>\n",
       "      <td>Bob Gunton</td>\n",
       "      <td>William Sadler</td>\n",
       "      <td>2343110</td>\n",
       "      <td>28,341,469</td>\n",
       "    </tr>\n",
       "    <tr>\n",
       "      <th>1</th>\n",
       "      <td>https://m.media-amazon.com/images/M/MV5BM2MyNj...</td>\n",
       "      <td>The Godfather</td>\n",
       "      <td>1972</td>\n",
       "      <td>A</td>\n",
       "      <td>175 min</td>\n",
       "      <td>Crime, Drama</td>\n",
       "      <td>9.2</td>\n",
       "      <td>An organized crime dynasty's aging patriarch t...</td>\n",
       "      <td>100.0</td>\n",
       "      <td>Francis Ford Coppola</td>\n",
       "      <td>Marlon Brando</td>\n",
       "      <td>Al Pacino</td>\n",
       "      <td>James Caan</td>\n",
       "      <td>Diane Keaton</td>\n",
       "      <td>1620367</td>\n",
       "      <td>134,966,411</td>\n",
       "    </tr>\n",
       "    <tr>\n",
       "      <th>2</th>\n",
       "      <td>https://m.media-amazon.com/images/M/MV5BMTMxNT...</td>\n",
       "      <td>The Dark Knight</td>\n",
       "      <td>2008</td>\n",
       "      <td>UA</td>\n",
       "      <td>152 min</td>\n",
       "      <td>Action, Crime, Drama</td>\n",
       "      <td>9.0</td>\n",
       "      <td>When the menace known as the Joker wreaks havo...</td>\n",
       "      <td>84.0</td>\n",
       "      <td>Christopher Nolan</td>\n",
       "      <td>Christian Bale</td>\n",
       "      <td>Heath Ledger</td>\n",
       "      <td>Aaron Eckhart</td>\n",
       "      <td>Michael Caine</td>\n",
       "      <td>2303232</td>\n",
       "      <td>534,858,444</td>\n",
       "    </tr>\n",
       "  </tbody>\n",
       "</table>\n",
       "</div>"
      ],
      "text/plain": [
       "                                         Poster_Link  \\\n",
       "0  https://m.media-amazon.com/images/M/MV5BMDFkYT...   \n",
       "1  https://m.media-amazon.com/images/M/MV5BM2MyNj...   \n",
       "2  https://m.media-amazon.com/images/M/MV5BMTMxNT...   \n",
       "\n",
       "               Series_Title Released_Year Certificate  Runtime  \\\n",
       "0  The Shawshank Redemption          1994           A  142 min   \n",
       "1             The Godfather          1972           A  175 min   \n",
       "2           The Dark Knight          2008          UA  152 min   \n",
       "\n",
       "                  Genre  IMDB_Rating  \\\n",
       "0                 Drama          9.3   \n",
       "1          Crime, Drama          9.2   \n",
       "2  Action, Crime, Drama          9.0   \n",
       "\n",
       "                                            Overview  Meta_score  \\\n",
       "0  Two imprisoned men bond over a number of years...        80.0   \n",
       "1  An organized crime dynasty's aging patriarch t...       100.0   \n",
       "2  When the menace known as the Joker wreaks havo...        84.0   \n",
       "\n",
       "               Director           Star1           Star2          Star3  \\\n",
       "0        Frank Darabont     Tim Robbins  Morgan Freeman     Bob Gunton   \n",
       "1  Francis Ford Coppola   Marlon Brando       Al Pacino     James Caan   \n",
       "2     Christopher Nolan  Christian Bale    Heath Ledger  Aaron Eckhart   \n",
       "\n",
       "            Star4  No_of_Votes        Gross  \n",
       "0  William Sadler      2343110   28,341,469  \n",
       "1    Diane Keaton      1620367  134,966,411  \n",
       "2   Michael Caine      2303232  534,858,444  "
      ]
     },
     "execution_count": 2,
     "metadata": {},
     "output_type": "execute_result"
    }
   ],
   "source": [
    "#quick view to the given data:\n",
    "movies_df.head(3)\n"
   ]
  },
  {
   "cell_type": "markdown",
   "id": "ee2e6f4b",
   "metadata": {},
   "source": [
    "#### <div class=\"alert alert-danger\">2. Clean and preprocess the data by removing unnecessary columns and handling missing values.</div>  \n"
   ]
  },
  {
   "cell_type": "code",
   "execution_count": 3,
   "id": "8770562e",
   "metadata": {},
   "outputs": [
    {
     "name": "stdout",
     "output_type": "stream",
     "text": [
      "<class 'pandas.core.frame.DataFrame'>\n",
      "RangeIndex: 1000 entries, 0 to 999\n",
      "Data columns (total 16 columns):\n",
      " #   Column         Non-Null Count  Dtype  \n",
      "---  ------         --------------  -----  \n",
      " 0   Poster_Link    1000 non-null   object \n",
      " 1   Series_Title   1000 non-null   object \n",
      " 2   Released_Year  1000 non-null   object \n",
      " 3   Certificate    899 non-null    object \n",
      " 4   Runtime        1000 non-null   object \n",
      " 5   Genre          1000 non-null   object \n",
      " 6   IMDB_Rating    1000 non-null   float64\n",
      " 7   Overview       1000 non-null   object \n",
      " 8   Meta_score     843 non-null    float64\n",
      " 9   Director       1000 non-null   object \n",
      " 10  Star1          1000 non-null   object \n",
      " 11  Star2          1000 non-null   object \n",
      " 12  Star3          1000 non-null   object \n",
      " 13  Star4          1000 non-null   object \n",
      " 14  No_of_Votes    1000 non-null   int64  \n",
      " 15  Gross          831 non-null    object \n",
      "dtypes: float64(2), int64(1), object(13)\n",
      "memory usage: 125.1+ KB\n"
     ]
    }
   ],
   "source": [
    "#display information about the structure and content of the DataFrame:\n",
    "movies_df.info()"
   ]
  },
  {
   "cell_type": "code",
   "execution_count": 4,
   "id": "886ee225",
   "metadata": {},
   "outputs": [
    {
     "data": {
      "text/html": [
       "<div>\n",
       "<style scoped>\n",
       "    .dataframe tbody tr th:only-of-type {\n",
       "        vertical-align: middle;\n",
       "    }\n",
       "\n",
       "    .dataframe tbody tr th {\n",
       "        vertical-align: top;\n",
       "    }\n",
       "\n",
       "    .dataframe thead th {\n",
       "        text-align: right;\n",
       "    }\n",
       "</style>\n",
       "<table border=\"1\" class=\"dataframe\">\n",
       "  <thead>\n",
       "    <tr style=\"text-align: right;\">\n",
       "      <th></th>\n",
       "      <th>IMDB_Rating</th>\n",
       "      <th>Meta_score</th>\n",
       "      <th>No_of_Votes</th>\n",
       "    </tr>\n",
       "  </thead>\n",
       "  <tbody>\n",
       "    <tr>\n",
       "      <th>count</th>\n",
       "      <td>1000.000000</td>\n",
       "      <td>843.000000</td>\n",
       "      <td>1.000000e+03</td>\n",
       "    </tr>\n",
       "    <tr>\n",
       "      <th>mean</th>\n",
       "      <td>7.949300</td>\n",
       "      <td>77.971530</td>\n",
       "      <td>2.736929e+05</td>\n",
       "    </tr>\n",
       "    <tr>\n",
       "      <th>std</th>\n",
       "      <td>0.275491</td>\n",
       "      <td>12.376099</td>\n",
       "      <td>3.273727e+05</td>\n",
       "    </tr>\n",
       "    <tr>\n",
       "      <th>min</th>\n",
       "      <td>7.600000</td>\n",
       "      <td>28.000000</td>\n",
       "      <td>2.508800e+04</td>\n",
       "    </tr>\n",
       "    <tr>\n",
       "      <th>25%</th>\n",
       "      <td>7.700000</td>\n",
       "      <td>70.000000</td>\n",
       "      <td>5.552625e+04</td>\n",
       "    </tr>\n",
       "    <tr>\n",
       "      <th>50%</th>\n",
       "      <td>7.900000</td>\n",
       "      <td>79.000000</td>\n",
       "      <td>1.385485e+05</td>\n",
       "    </tr>\n",
       "    <tr>\n",
       "      <th>75%</th>\n",
       "      <td>8.100000</td>\n",
       "      <td>87.000000</td>\n",
       "      <td>3.741612e+05</td>\n",
       "    </tr>\n",
       "    <tr>\n",
       "      <th>max</th>\n",
       "      <td>9.300000</td>\n",
       "      <td>100.000000</td>\n",
       "      <td>2.343110e+06</td>\n",
       "    </tr>\n",
       "  </tbody>\n",
       "</table>\n",
       "</div>"
      ],
      "text/plain": [
       "       IMDB_Rating  Meta_score   No_of_Votes\n",
       "count  1000.000000  843.000000  1.000000e+03\n",
       "mean      7.949300   77.971530  2.736929e+05\n",
       "std       0.275491   12.376099  3.273727e+05\n",
       "min       7.600000   28.000000  2.508800e+04\n",
       "25%       7.700000   70.000000  5.552625e+04\n",
       "50%       7.900000   79.000000  1.385485e+05\n",
       "75%       8.100000   87.000000  3.741612e+05\n",
       "max       9.300000  100.000000  2.343110e+06"
      ]
     },
     "execution_count": 4,
     "metadata": {},
     "output_type": "execute_result"
    }
   ],
   "source": [
    "#brief statistics for the numerical columns in the Data frame.\n",
    "#this helps to know simple statistics about the data and understand it more.\n",
    "movies_df.describe()"
   ]
  },
  {
   "cell_type": "code",
   "execution_count": 5,
   "id": "de982d84",
   "metadata": {},
   "outputs": [
    {
     "data": {
      "text/html": [
       "<div>\n",
       "<style scoped>\n",
       "    .dataframe tbody tr th:only-of-type {\n",
       "        vertical-align: middle;\n",
       "    }\n",
       "\n",
       "    .dataframe tbody tr th {\n",
       "        vertical-align: top;\n",
       "    }\n",
       "\n",
       "    .dataframe thead th {\n",
       "        text-align: right;\n",
       "    }\n",
       "</style>\n",
       "<table border=\"1\" class=\"dataframe\">\n",
       "  <thead>\n",
       "    <tr style=\"text-align: right;\">\n",
       "      <th></th>\n",
       "      <th>Poster_Link</th>\n",
       "      <th>Series_Title</th>\n",
       "      <th>Released_Year</th>\n",
       "      <th>Certificate</th>\n",
       "      <th>Runtime</th>\n",
       "      <th>Genre</th>\n",
       "      <th>Overview</th>\n",
       "      <th>Director</th>\n",
       "      <th>Star1</th>\n",
       "      <th>Star2</th>\n",
       "      <th>Star3</th>\n",
       "      <th>Star4</th>\n",
       "      <th>Gross</th>\n",
       "    </tr>\n",
       "  </thead>\n",
       "  <tbody>\n",
       "    <tr>\n",
       "      <th>count</th>\n",
       "      <td>1000</td>\n",
       "      <td>1000</td>\n",
       "      <td>1000</td>\n",
       "      <td>899</td>\n",
       "      <td>1000</td>\n",
       "      <td>1000</td>\n",
       "      <td>1000</td>\n",
       "      <td>1000</td>\n",
       "      <td>1000</td>\n",
       "      <td>1000</td>\n",
       "      <td>1000</td>\n",
       "      <td>1000</td>\n",
       "      <td>831</td>\n",
       "    </tr>\n",
       "    <tr>\n",
       "      <th>unique</th>\n",
       "      <td>1000</td>\n",
       "      <td>999</td>\n",
       "      <td>100</td>\n",
       "      <td>16</td>\n",
       "      <td>140</td>\n",
       "      <td>202</td>\n",
       "      <td>1000</td>\n",
       "      <td>548</td>\n",
       "      <td>660</td>\n",
       "      <td>841</td>\n",
       "      <td>891</td>\n",
       "      <td>939</td>\n",
       "      <td>823</td>\n",
       "    </tr>\n",
       "    <tr>\n",
       "      <th>top</th>\n",
       "      <td>https://m.media-amazon.com/images/M/MV5BMDFkYT...</td>\n",
       "      <td>Drishyam</td>\n",
       "      <td>2014</td>\n",
       "      <td>U</td>\n",
       "      <td>100 min</td>\n",
       "      <td>Drama</td>\n",
       "      <td>Two imprisoned men bond over a number of years...</td>\n",
       "      <td>Alfred Hitchcock</td>\n",
       "      <td>Tom Hanks</td>\n",
       "      <td>Emma Watson</td>\n",
       "      <td>Rupert Grint</td>\n",
       "      <td>Michael Caine</td>\n",
       "      <td>4,360,000</td>\n",
       "    </tr>\n",
       "    <tr>\n",
       "      <th>freq</th>\n",
       "      <td>1</td>\n",
       "      <td>2</td>\n",
       "      <td>32</td>\n",
       "      <td>234</td>\n",
       "      <td>23</td>\n",
       "      <td>85</td>\n",
       "      <td>1</td>\n",
       "      <td>14</td>\n",
       "      <td>12</td>\n",
       "      <td>7</td>\n",
       "      <td>5</td>\n",
       "      <td>4</td>\n",
       "      <td>5</td>\n",
       "    </tr>\n",
       "  </tbody>\n",
       "</table>\n",
       "</div>"
      ],
      "text/plain": [
       "                                              Poster_Link Series_Title  \\\n",
       "count                                                1000         1000   \n",
       "unique                                               1000          999   \n",
       "top     https://m.media-amazon.com/images/M/MV5BMDFkYT...     Drishyam   \n",
       "freq                                                    1            2   \n",
       "\n",
       "       Released_Year Certificate  Runtime  Genre  \\\n",
       "count           1000         899     1000   1000   \n",
       "unique           100          16      140    202   \n",
       "top             2014           U  100 min  Drama   \n",
       "freq              32         234       23     85   \n",
       "\n",
       "                                                 Overview          Director  \\\n",
       "count                                                1000              1000   \n",
       "unique                                               1000               548   \n",
       "top     Two imprisoned men bond over a number of years...  Alfred Hitchcock   \n",
       "freq                                                    1                14   \n",
       "\n",
       "            Star1        Star2         Star3          Star4      Gross  \n",
       "count        1000         1000          1000           1000        831  \n",
       "unique        660          841           891            939        823  \n",
       "top     Tom Hanks  Emma Watson  Rupert Grint  Michael Caine  4,360,000  \n",
       "freq           12            7             5              4          5  "
      ]
     },
     "execution_count": 5,
     "metadata": {},
     "output_type": "execute_result"
    }
   ],
   "source": [
    "#generate summary statistics for the columns of object data type (categorical columns) in the DataFrame:\n",
    "movies_df.describe(include=object)"
   ]
  },
  {
   "cell_type": "code",
   "execution_count": 6,
   "id": "b9347732",
   "metadata": {},
   "outputs": [
    {
     "data": {
      "text/plain": [
       "Poster_Link      1000\n",
       "Series_Title      999\n",
       "Released_Year     100\n",
       "Certificate        16\n",
       "Runtime           140\n",
       "Genre             202\n",
       "IMDB_Rating        17\n",
       "Overview         1000\n",
       "Meta_score         63\n",
       "Director          548\n",
       "Star1             660\n",
       "Star2             841\n",
       "Star3             891\n",
       "Star4             939\n",
       "No_of_Votes       999\n",
       "Gross             823\n",
       "dtype: int64"
      ]
     },
     "execution_count": 6,
     "metadata": {},
     "output_type": "execute_result"
    }
   ],
   "source": [
    "movies_df.nunique()  #number of unique elements in each column"
   ]
  },
  {
   "cell_type": "code",
   "execution_count": 7,
   "id": "8c26001c",
   "metadata": {},
   "outputs": [
    {
     "data": {
      "text/plain": [
       "999"
      ]
     },
     "execution_count": 7,
     "metadata": {},
     "output_type": "execute_result"
    }
   ],
   "source": [
    "# Check for number of unique values for the column 'Series_Title'\n",
    "movies_df.Series_Title.nunique()\n"
   ]
  },
  {
   "cell_type": "markdown",
   "id": "8a935d13",
   "metadata": {},
   "source": [
    "- here the column that represents the name of the movies 'Series_Title',has 999 unique values, so l will check if there is a duplicate value, then the duplicate title must be deleted:"
   ]
  },
  {
   "cell_type": "code",
   "execution_count": 8,
   "id": "a738e656",
   "metadata": {},
   "outputs": [
    {
     "data": {
      "text/plain": [
       "True"
      ]
     },
     "execution_count": 8,
     "metadata": {},
     "output_type": "execute_result"
    }
   ],
   "source": [
    "# Check for duplicate values in the column 'Series_Title':\n",
    "movies_df.Series_Title.duplicated().any()"
   ]
  },
  {
   "cell_type": "code",
   "execution_count": 9,
   "id": "8dee5f29",
   "metadata": {},
   "outputs": [
    {
     "data": {
      "text/html": [
       "<div>\n",
       "<style scoped>\n",
       "    .dataframe tbody tr th:only-of-type {\n",
       "        vertical-align: middle;\n",
       "    }\n",
       "\n",
       "    .dataframe tbody tr th {\n",
       "        vertical-align: top;\n",
       "    }\n",
       "\n",
       "    .dataframe thead th {\n",
       "        text-align: right;\n",
       "    }\n",
       "</style>\n",
       "<table border=\"1\" class=\"dataframe\">\n",
       "  <thead>\n",
       "    <tr style=\"text-align: right;\">\n",
       "      <th></th>\n",
       "      <th>Poster_Link</th>\n",
       "      <th>Series_Title</th>\n",
       "      <th>Released_Year</th>\n",
       "      <th>Certificate</th>\n",
       "      <th>Runtime</th>\n",
       "      <th>Genre</th>\n",
       "      <th>IMDB_Rating</th>\n",
       "      <th>Overview</th>\n",
       "      <th>Meta_score</th>\n",
       "      <th>Director</th>\n",
       "      <th>Star1</th>\n",
       "      <th>Star2</th>\n",
       "      <th>Star3</th>\n",
       "      <th>Star4</th>\n",
       "      <th>No_of_Votes</th>\n",
       "      <th>Gross</th>\n",
       "    </tr>\n",
       "  </thead>\n",
       "  <tbody>\n",
       "    <tr>\n",
       "      <th>87</th>\n",
       "      <td>https://m.media-amazon.com/images/M/MV5BYmY3Mz...</td>\n",
       "      <td>Drishyam</td>\n",
       "      <td>2013</td>\n",
       "      <td>U</td>\n",
       "      <td>160 min</td>\n",
       "      <td>Crime, Drama, Thriller</td>\n",
       "      <td>8.3</td>\n",
       "      <td>A man goes to extreme lengths to save his fami...</td>\n",
       "      <td>NaN</td>\n",
       "      <td>Jeethu Joseph</td>\n",
       "      <td>Mohanlal</td>\n",
       "      <td>Meena</td>\n",
       "      <td>Asha Sharath</td>\n",
       "      <td>Ansiba</td>\n",
       "      <td>30722</td>\n",
       "      <td>NaN</td>\n",
       "    </tr>\n",
       "    <tr>\n",
       "      <th>136</th>\n",
       "      <td>https://m.media-amazon.com/images/M/MV5BYmJhZm...</td>\n",
       "      <td>Drishyam</td>\n",
       "      <td>2015</td>\n",
       "      <td>UA</td>\n",
       "      <td>163 min</td>\n",
       "      <td>Crime, Drama, Mystery</td>\n",
       "      <td>8.2</td>\n",
       "      <td>Desperate measures are taken by a man who trie...</td>\n",
       "      <td>NaN</td>\n",
       "      <td>Nishikant Kamat</td>\n",
       "      <td>Ajay Devgn</td>\n",
       "      <td>Shriya Saran</td>\n",
       "      <td>Tabu</td>\n",
       "      <td>Rajat Kapoor</td>\n",
       "      <td>70367</td>\n",
       "      <td>739,478</td>\n",
       "    </tr>\n",
       "  </tbody>\n",
       "</table>\n",
       "</div>"
      ],
      "text/plain": [
       "                                           Poster_Link Series_Title  \\\n",
       "87   https://m.media-amazon.com/images/M/MV5BYmY3Mz...     Drishyam   \n",
       "136  https://m.media-amazon.com/images/M/MV5BYmJhZm...     Drishyam   \n",
       "\n",
       "    Released_Year Certificate  Runtime                   Genre  IMDB_Rating  \\\n",
       "87           2013           U  160 min  Crime, Drama, Thriller          8.3   \n",
       "136          2015          UA  163 min   Crime, Drama, Mystery          8.2   \n",
       "\n",
       "                                              Overview  Meta_score  \\\n",
       "87   A man goes to extreme lengths to save his fami...         NaN   \n",
       "136  Desperate measures are taken by a man who trie...         NaN   \n",
       "\n",
       "            Director       Star1         Star2         Star3         Star4  \\\n",
       "87     Jeethu Joseph    Mohanlal         Meena  Asha Sharath        Ansiba   \n",
       "136  Nishikant Kamat  Ajay Devgn  Shriya Saran          Tabu  Rajat Kapoor   \n",
       "\n",
       "     No_of_Votes    Gross  \n",
       "87         30722      NaN  \n",
       "136        70367  739,478  "
      ]
     },
     "execution_count": 9,
     "metadata": {},
     "output_type": "execute_result"
    }
   ],
   "source": [
    "# Find out the movies with duplicate 'Series_Title'\n",
    "movies_df.loc[movies_df.Series_Title.duplicated(keep=False)] # check for duplicate values in the 'Series_Title' column. \n",
    "#The duplicated() method returns a boolean Series where indicates whether the value is duplicated or not. \n",
    "#by (keep=False,) all occurrences of duplicated values are marked as True.\n",
    "#loc here is used to filter the DataFrame based on a condition.which selects the rows where the 'Series_Title' column has duplicate values."
   ]
  },
  {
   "cell_type": "markdown",
   "id": "bc3192ba",
   "metadata": {},
   "source": [
    "So there are no duplicate movies. The movie with Title \"Drishyam\" was released on 2013 and 2015,and they are different with the rest of the information in the other columns too, so they are two different movies."
   ]
  },
  {
   "cell_type": "markdown",
   "id": "e37ff6b3",
   "metadata": {},
   "source": [
    "###  <font color=indianred> ***the columns in the IMDB dataset. And the corresponding process for each one:*** </font> \n",
    "**These adjustments to the data and columns are based on the upcoming requirements of this analysis and the information that needs to be accessed and extracted.**\n",
    "\n",
    "- <mark>Poster_Link</mark>: Link of the poster that imdb using.\n",
    "- - (**I will drop it because the movie poster will not help us with the analysis that we will do here,in addition the images are very small and unclear**).\n",
    "\n",
    "- <mark>Series_Title</mark>: essential for identifying and referencing each film in analysis.\n",
    "- - (**rename to 'Movie_Title'**)\n",
    "\n",
    "- <mark>Released_Year</mark>: can be relevant in identifying trends and patterns over time and can help analyze the popularity of different genres across different years.\n",
    "- - (**convert type to int**),(I will not convert it to the datetime data type because it contains only the number of the year)\n",
    "\n",
    "- <mark>Certificate</mark>:It can Indicates into the target audience and potentially influence the popularity of certain genres.\n",
    "- - (**contains missing values need to handle with them**)\n",
    "\n",
    "- <mark>Runtime</mark>: It can be relevant to understand the audience preference for certain genres based on the duration of the content.\n",
    "- - (**rename to 'Time_min',convert type to int**)\n",
    "\n",
    "- <mark>Genre</mark>: This is important column for identifying the most popular genre.\n",
    "- - (**Convert the words in each cell to a list of Genres**) by split the values in the 'Genre' column based on the comma (',') stores the result as a list,so it becomes easy to manipulate and extract.\n",
    "\n",
    "\n",
    "\n",
    "- <mark>IMDB_Rating</mark>:_out of 10_,it provide insights into the overall quality and reception of different movies and TV shows.\n",
    "\n",
    "- <mark>Overview</mark>: mini story/ summary.\n",
    "- -(**I will drop it because the mini-story of the movie is not relevant to the required analysis**)\n",
    "\n",
    "- <mark>Meta_score</mark>:_out of 100_, this column represents the score earned by the movie or TV show on a different platform.  it provides an additional measure of critical reception.\n",
    "- - (**contains missing values need to handle**)\n",
    "\n",
    "- <mark>Director</mark>: represents the name of the director for each movie, and it is a very important column for the required analysis.\n",
    "\n",
    "\n",
    "- <mark>Star1,Star2,Star3,Star4</mark>:contain the names of the stars or actors in the movie or TV show.\n",
    "- - (**I will drop them,since they not directly relevant to the required analysis**)\n",
    "\n",
    "\n",
    "- <mark>No_of_votes</mark>:represents the total number of votes received by the movie or TV show. It can indicate the level of audience engagement and popularity,which indirectly relates to the popularity of different genres.\n",
    "- - (**rename to 'Num_of_votes'**)\n",
    "\n",
    "- <mark>Gross</mark>:represents the money earned by the movie,and it can provide insights into the financial success of different genres.\n",
    "- - (**convert type to float**,**contains missing values need to handle**)"
   ]
  },
  {
   "cell_type": "markdown",
   "id": "6dd2a09e",
   "metadata": {},
   "source": [
    "> Delete the previously mentioned columns:"
   ]
  },
  {
   "cell_type": "code",
   "execution_count": 10,
   "id": "daa55f6a",
   "metadata": {},
   "outputs": [
    {
     "name": "stdout",
     "output_type": "stream",
     "text": [
      "(1000, 10)\n"
     ]
    },
    {
     "data": {
      "text/html": [
       "<div>\n",
       "<style scoped>\n",
       "    .dataframe tbody tr th:only-of-type {\n",
       "        vertical-align: middle;\n",
       "    }\n",
       "\n",
       "    .dataframe tbody tr th {\n",
       "        vertical-align: top;\n",
       "    }\n",
       "\n",
       "    .dataframe thead th {\n",
       "        text-align: right;\n",
       "    }\n",
       "</style>\n",
       "<table border=\"1\" class=\"dataframe\">\n",
       "  <thead>\n",
       "    <tr style=\"text-align: right;\">\n",
       "      <th></th>\n",
       "      <th>Series_Title</th>\n",
       "      <th>Released_Year</th>\n",
       "      <th>Certificate</th>\n",
       "      <th>Runtime</th>\n",
       "      <th>Genre</th>\n",
       "      <th>IMDB_Rating</th>\n",
       "      <th>Meta_score</th>\n",
       "      <th>Director</th>\n",
       "      <th>No_of_Votes</th>\n",
       "      <th>Gross</th>\n",
       "    </tr>\n",
       "  </thead>\n",
       "  <tbody>\n",
       "    <tr>\n",
       "      <th>0</th>\n",
       "      <td>The Shawshank Redemption</td>\n",
       "      <td>1994</td>\n",
       "      <td>A</td>\n",
       "      <td>142 min</td>\n",
       "      <td>Drama</td>\n",
       "      <td>9.3</td>\n",
       "      <td>80.0</td>\n",
       "      <td>Frank Darabont</td>\n",
       "      <td>2343110</td>\n",
       "      <td>28,341,469</td>\n",
       "    </tr>\n",
       "    <tr>\n",
       "      <th>1</th>\n",
       "      <td>The Godfather</td>\n",
       "      <td>1972</td>\n",
       "      <td>A</td>\n",
       "      <td>175 min</td>\n",
       "      <td>Crime, Drama</td>\n",
       "      <td>9.2</td>\n",
       "      <td>100.0</td>\n",
       "      <td>Francis Ford Coppola</td>\n",
       "      <td>1620367</td>\n",
       "      <td>134,966,411</td>\n",
       "    </tr>\n",
       "  </tbody>\n",
       "</table>\n",
       "</div>"
      ],
      "text/plain": [
       "               Series_Title Released_Year Certificate  Runtime         Genre  \\\n",
       "0  The Shawshank Redemption          1994           A  142 min         Drama   \n",
       "1             The Godfather          1972           A  175 min  Crime, Drama   \n",
       "\n",
       "   IMDB_Rating  Meta_score              Director  No_of_Votes        Gross  \n",
       "0          9.3        80.0        Frank Darabont      2343110   28,341,469  \n",
       "1          9.2       100.0  Francis Ford Coppola      1620367  134,966,411  "
      ]
     },
     "execution_count": 10,
     "metadata": {},
     "output_type": "execute_result"
    }
   ],
   "source": [
    "# by using drop() method to drop specific rows or columns from the DataFrame and specify the labels of the columns need to drop.\n",
    "movies_df.drop(['Poster_Link', 'Overview','Star1','Star2','Star3','Star4'], axis=1, inplace=True)\n",
    "print(movies_df.shape)\n",
    "#to ensure the previous line was executed successfully:\n",
    "movies_df.head(2)"
   ]
  },
  {
   "cell_type": "markdown",
   "id": "c4865ecd",
   "metadata": {},
   "source": [
    "> Renaming the previously mentioned columns:"
   ]
  },
  {
   "cell_type": "code",
   "execution_count": 11,
   "id": "394d5e8b",
   "metadata": {},
   "outputs": [
    {
     "data": {
      "text/html": [
       "<div>\n",
       "<style scoped>\n",
       "    .dataframe tbody tr th:only-of-type {\n",
       "        vertical-align: middle;\n",
       "    }\n",
       "\n",
       "    .dataframe tbody tr th {\n",
       "        vertical-align: top;\n",
       "    }\n",
       "\n",
       "    .dataframe thead th {\n",
       "        text-align: right;\n",
       "    }\n",
       "</style>\n",
       "<table border=\"1\" class=\"dataframe\">\n",
       "  <thead>\n",
       "    <tr style=\"text-align: right;\">\n",
       "      <th></th>\n",
       "      <th>Movie_title</th>\n",
       "      <th>Released_Year</th>\n",
       "      <th>Certificate</th>\n",
       "      <th>Time_min</th>\n",
       "      <th>Genre</th>\n",
       "      <th>IMDB_Rating</th>\n",
       "      <th>Meta_score</th>\n",
       "      <th>Director</th>\n",
       "      <th>Num_of_votes</th>\n",
       "      <th>Gross</th>\n",
       "    </tr>\n",
       "  </thead>\n",
       "  <tbody>\n",
       "    <tr>\n",
       "      <th>0</th>\n",
       "      <td>The Shawshank Redemption</td>\n",
       "      <td>1994</td>\n",
       "      <td>A</td>\n",
       "      <td>142 min</td>\n",
       "      <td>Drama</td>\n",
       "      <td>9.3</td>\n",
       "      <td>80.0</td>\n",
       "      <td>Frank Darabont</td>\n",
       "      <td>2343110</td>\n",
       "      <td>28,341,469</td>\n",
       "    </tr>\n",
       "    <tr>\n",
       "      <th>1</th>\n",
       "      <td>The Godfather</td>\n",
       "      <td>1972</td>\n",
       "      <td>A</td>\n",
       "      <td>175 min</td>\n",
       "      <td>Crime, Drama</td>\n",
       "      <td>9.2</td>\n",
       "      <td>100.0</td>\n",
       "      <td>Francis Ford Coppola</td>\n",
       "      <td>1620367</td>\n",
       "      <td>134,966,411</td>\n",
       "    </tr>\n",
       "  </tbody>\n",
       "</table>\n",
       "</div>"
      ],
      "text/plain": [
       "                Movie_title Released_Year Certificate Time_min         Genre  \\\n",
       "0  The Shawshank Redemption          1994           A  142 min         Drama   \n",
       "1             The Godfather          1972           A  175 min  Crime, Drama   \n",
       "\n",
       "   IMDB_Rating  Meta_score              Director  Num_of_votes        Gross  \n",
       "0          9.3        80.0        Frank Darabont       2343110   28,341,469  \n",
       "1          9.2       100.0  Francis Ford Coppola       1620367  134,966,411  "
      ]
     },
     "execution_count": 11,
     "metadata": {},
     "output_type": "execute_result"
    }
   ],
   "source": [
    "#rename method----'current column name' : 'new name'---,\n",
    "movies_df.rename(columns={'Series_Title': 'Movie_title','Runtime':'Time_min','No_of_Votes': 'Num_of_votes'} , inplace = True)\n",
    "#(inplace = True)to modify the DataFrame in-place.\n",
    "\n",
    "#to ensure the previous line was executed successfully:\n",
    "movies_df.head(2)\n"
   ]
  },
  {
   "cell_type": "markdown",
   "id": "2f79878c",
   "metadata": {},
   "source": [
    "> changing the type of columns that previously mentioned(`'Released_Year','Time_min','Gross'`):"
   ]
  },
  {
   "cell_type": "code",
   "execution_count": 12,
   "id": "6b813ff1",
   "metadata": {},
   "outputs": [
    {
     "name": "stdout",
     "output_type": "stream",
     "text": [
      "    Movie_title Released_Year Certificate Time_min                      Genre  \\\n",
      "966   Apollo 13            PG           U  140 min  Adventure, Drama, History   \n",
      "\n",
      "     IMDB_Rating  Meta_score    Director  Num_of_votes        Gross  \n",
      "966          7.6        77.0  Ron Howard        269197  173,837,933  \n"
     ]
    }
   ],
   "source": [
    "#'Released_Year' column:\n",
    "# Check if there any cells with characters or symbols in the \"Released_Year\" column:\n",
    "invalid_years = movies_df[movies_df['Released_Year'].str.contains('[^0-9]', regex=True)] #accesses the 'Released_Year' column\n",
    "#then checks if there is values in the 'Released_Year' contains any non-numeric character.\n",
    "\n",
    "print(invalid_years)"
   ]
  },
  {
   "cell_type": "code",
   "execution_count": 13,
   "id": "506e3711",
   "metadata": {},
   "outputs": [
    {
     "name": "stdout",
     "output_type": "stream",
     "text": [
      "int32\n"
     ]
    }
   ],
   "source": [
    "#Converting the 'Released_Year' column to numeric type and convert non-numeric values in Released_Year column to NaN:\n",
    "movies_df['Released_Year'] = pd.to_numeric(movies_df['Released_Year'], errors='coerce')\n",
    "# Convert NaN values to a specific value\n",
    "movies_df['Released_Year'].fillna(1995, inplace=True)\n",
    "#The solution could be to delete that row which contains an incorrect value, but given the information in the\n",
    "#other columns of this row, this movie has achieved a relatively high percentage of profits,\n",
    "#and as long as this value can be corrected and can be found in Google:),this could be a solution in this special case\n",
    "#without getting rid of the entire row with all its filled information.\n",
    "\n",
    "\n",
    "# Convert the 'Released_Year' column to int\n",
    "movies_df['Released_Year'] = movies_df['Released_Year'].astype(int)\n",
    "\n",
    "# Verify the data type\n",
    "print(movies_df['Released_Year'].dtype)"
   ]
  },
  {
   "cell_type": "code",
   "execution_count": 14,
   "id": "dff06b91",
   "metadata": {},
   "outputs": [
    {
     "name": "stdout",
     "output_type": "stream",
     "text": [
      "int32\n"
     ]
    }
   ],
   "source": [
    "#'Time_min' column:\n",
    "# Removing 'min' from 'Time_min' values befor convert it's type:\n",
    "movies_df['Time_min'] = movies_df['Time_min'].str.replace('min', '')\n",
    "movies_df['Time_min']=movies_df.Time_min.astype(int)\n",
    "# Verify the data type\n",
    "print(movies_df['Time_min'].dtype)\n"
   ]
  },
  {
   "cell_type": "code",
   "execution_count": 15,
   "id": "38a6a4dd",
   "metadata": {},
   "outputs": [
    {
     "name": "stdout",
     "output_type": "stream",
     "text": [
      "0    28341469\n",
      "Name: Gross, dtype: object\n"
     ]
    },
    {
     "data": {
      "text/plain": [
       "dtype('float64')"
      ]
     },
     "execution_count": 15,
     "metadata": {},
     "output_type": "execute_result"
    }
   ],
   "source": [
    "#'Gross' column:\n",
    "# Cleaning 'Gross' column by removing any non-numeric characters like (,) here and then converting the values to numeric type:\n",
    "movies_df['Gross'] = movies_df['Gross'].str.replace(',', '')\n",
    "\n",
    "#To ensure that the previous line was executed successfully:\n",
    "print(movies_df['Gross'].head(1)) # 0    28341469\n",
    "\n",
    "#converting the values to numeric type:\n",
    "movies_df['Gross'] = movies_df['Gross'].astype('float64')\n",
    "\n",
    "#missing value:replace NaN values with the value of the column's arithmetic median:(177 NaN value)\n",
    "movies_df['Gross'] = movies_df['Gross'].replace(np.nan,movies_df['Gross'].median())\n",
    "# Verify the data type\n",
    "movies_df['Gross'].dtype\n",
    "\n",
    "#print(movies_df['Gross'][18]) #Verify if this nan value is changed in this cell."
   ]
  },
  {
   "cell_type": "code",
   "execution_count": 16,
   "id": "ed895cae",
   "metadata": {},
   "outputs": [
    {
     "name": "stdout",
     "output_type": "stream",
     "text": [
      "0                         [Drama]\n",
      "1                  [Crime, Drama]\n",
      "2          [Action, Crime, Drama]\n",
      "3                  [Crime, Drama]\n",
      "4                  [Crime, Drama]\n",
      "                  ...            \n",
      "995      [Comedy, Drama, Romance]\n",
      "996              [Drama, Western]\n",
      "997         [Drama, Romance, War]\n",
      "998                  [Drama, War]\n",
      "999    [Crime, Mystery, Thriller]\n",
      "Name: Genre, Length: 1000, dtype: object\n"
     ]
    }
   ],
   "source": [
    "#Genre column:\n",
    "#split the values in the 'Genre' column based on the comma (',') stores the result as a list.\n",
    "movies_df['Genre'] = movies_df['Genre'].str.split(', ')\n",
    "#to ensure the previous line was executed successfully:\n",
    "print(movies_df['Genre'])"
   ]
  },
  {
   "cell_type": "code",
   "execution_count": 17,
   "id": "affa8775",
   "metadata": {},
   "outputs": [
    {
     "data": {
      "text/plain": [
       "Movie_title       object\n",
       "Released_Year      int32\n",
       "Certificate       object\n",
       "Time_min           int32\n",
       "Genre             object\n",
       "IMDB_Rating      float64\n",
       "Meta_score       float64\n",
       "Director          object\n",
       "Num_of_votes       int64\n",
       "Gross            float64\n",
       "dtype: object"
      ]
     },
     "execution_count": 17,
     "metadata": {},
     "output_type": "execute_result"
    }
   ],
   "source": [
    "#Checking all datatypes:\n",
    "movies_df.dtypes"
   ]
  },
  {
   "cell_type": "markdown",
   "id": "ab438600",
   "metadata": {},
   "source": [
    "> Handling with missing values in the previously shown columns(`Certificate , Meta_score , Gross`):"
   ]
  },
  {
   "cell_type": "code",
   "execution_count": 18,
   "id": "eae8ae86",
   "metadata": {},
   "outputs": [
    {
     "data": {
      "text/plain": [
       "Movie_title        0\n",
       "Released_Year      0\n",
       "Certificate      101\n",
       "Time_min           0\n",
       "Genre              0\n",
       "IMDB_Rating        0\n",
       "Meta_score       157\n",
       "Director           0\n",
       "Num_of_votes       0\n",
       "Gross              0\n",
       "dtype: int64"
      ]
     },
     "execution_count": 18,
     "metadata": {},
     "output_type": "execute_result"
    }
   ],
   "source": [
    "#Number of null values in each column: \n",
    "#Note:the NaN values in the 'Gross' column are not appeared here because they have been replaced by the median value recently.\n",
    "movies_df.isnull().sum()"
   ]
  },
  {
   "cell_type": "code",
   "execution_count": 19,
   "id": "b70ac298",
   "metadata": {},
   "outputs": [
    {
     "name": "stdout",
     "output_type": "stream",
     "text": [
      "['A', 'UA', 'U', 'PG-13', 'R', nan, 'PG', 'G', 'Passed', 'TV-14', '16', 'TV-MA', 'Unrated', 'GP', 'Approved', 'TV-PG', 'U/A']\n"
     ]
    }
   ],
   "source": [
    "#Certificate column:\n",
    "#creates a list named movies_df_list that contains the unique values from the 'Certificate' column,to understand this column\n",
    "#more,and figure out how to handle the missing values:\n",
    "movies_df_list = list(movies_df.Certificate.unique())\n",
    "print((movies_df_list))"
   ]
  },
  {
   "cell_type": "markdown",
   "id": "f8c3b73c",
   "metadata": {},
   "source": [
    "> **`'Certificate'`** column  is provides guidance on the suitability of the content for different age groups and may include ratings such as 'A' (Adults Only), 'UA' (Unrestricted Public Exhibition-Adults), 'U' (Universal), 'PG-13' (Parental Guidance Suggested-13), 'R' (Restricted), 'PG' (Parental Guidance Suggested), 'G' (General Audiences), and others.these ratings are an important aspect of classifying and categorizing movies and TV shows based on their content suitability and audience targeting.\n",
    "> - Here,the percentage of missing values is approximately 10%, and this is not a small percentage, so I will not drop the rows that contain the missing values, and instead I will fill in an unknown value in this column in place of each nan value.\n",
    "> - Note: one of these values in certificate column  is `'Unrated'`: It indicates that the movie or TV show does not have an official content rating assigned.It differs from the unknown value because this value means that it has not been rated yet but the `unknown` means that there is a possibility that the film has been rated but the rate value is unknown to us in this data."
   ]
  },
  {
   "cell_type": "code",
   "execution_count": 20,
   "id": "9fb370e9",
   "metadata": {},
   "outputs": [],
   "source": [
    "#Handling with missing values in 'Certificate' column: #101 NaN value (10%)\n",
    "movies_df['Certificate'] = movies_df['Certificate'].replace(np.nan,\"Unknown\")"
   ]
  },
  {
   "cell_type": "markdown",
   "id": "f1affb9b",
   "metadata": {},
   "source": [
    "> **`in Meta_score column`**:\n",
    "> -  The percentage of missing values is 15%, and this is a relatively large number,so getting rid of it cause a significant loss of data.\n",
    "> - Replace NaN values with zeros cause a significant effect on the rest of the statistical calculations for this column.\n",
    "> - Therefore, the more appropriate option is to replace the missing values with the arithmetic mean or median\n",
    "It is worth noting that the value of the arithmetic mean and the median are very close to each other and the standard deviation is relatively large. In this case, there is no significant difference between using the arithmetic mean or the median.and they will not affect the outliers and the upper values which are more important values for the required analysis."
   ]
  },
  {
   "cell_type": "code",
   "execution_count": 21,
   "id": "48056993",
   "metadata": {},
   "outputs": [
    {
     "name": "stdout",
     "output_type": "stream",
     "text": [
      "77.97153024911032\n",
      "79.0\n"
     ]
    }
   ],
   "source": [
    "#Handling with missing values in ' Meta_score' column: #157 NaN_(15.7%) \n",
    "print(movies_df['Meta_score'].mean()) #77.97153024911032\n",
    "print(movies_df['Meta_score'].median()) #79.0\n",
    "#Replace missing values with the arithmetic median of the ' Meta_score' column:\n",
    "movies_df['Meta_score'] = movies_df['Meta_score'].replace(np.nan,movies_df.Meta_score.median())\n",
    "\n",
    "#print(movies_df['Meta_score'][20]) #Verify if this nan value is changed to median in this column.\n",
    "\n"
   ]
  },
  {
   "cell_type": "markdown",
   "id": "91e375b9",
   "metadata": {},
   "source": [
    "> In **`Gross`** column if the missing values are replaced by zero, it can significantly affect the arithmetic mean.Since zero is a low value, it can potentially pull down the mean, making it lower than it would be.\n",
    "\n",
    "> So replacing the missing values with the median would be a better option in this case. The median is not affected by extreme values like the arithmetic mean, making it a more robust measure of central tendency. By using the median, we can estimate the central value of the Gross column without being heavily influenced by outliers."
   ]
  },
  {
   "cell_type": "markdown",
   "id": "c1250ec8",
   "metadata": {},
   "source": [
    "> The decision to use the mean or median to replace missing values depends on the characteristics of the data, the presence of outliers, and the specific requirements of the analysis.\n",
    "Here, the columns contain outlier values and the data are not normally distributed or follow a symmetric distribution. The arithmetic mean is affected by the extreme values, while the median is not affected, so the median may be the best option.\n",
    "In the end, we care more about the higher values here in this analysis than the statistics that relate to all data."
   ]
  },
  {
   "cell_type": "code",
   "execution_count": 22,
   "id": "4fc49b3f",
   "metadata": {},
   "outputs": [
    {
     "data": {
      "text/html": [
       "<div>\n",
       "<style scoped>\n",
       "    .dataframe tbody tr th:only-of-type {\n",
       "        vertical-align: middle;\n",
       "    }\n",
       "\n",
       "    .dataframe tbody tr th {\n",
       "        vertical-align: top;\n",
       "    }\n",
       "\n",
       "    .dataframe thead th {\n",
       "        text-align: right;\n",
       "    }\n",
       "</style>\n",
       "<table border=\"1\" class=\"dataframe\">\n",
       "  <thead>\n",
       "    <tr style=\"text-align: right;\">\n",
       "      <th></th>\n",
       "      <th>Released_Year</th>\n",
       "      <th>Time_min</th>\n",
       "      <th>IMDB_Rating</th>\n",
       "      <th>Meta_score</th>\n",
       "      <th>Num_of_votes</th>\n",
       "      <th>Gross</th>\n",
       "    </tr>\n",
       "  </thead>\n",
       "  <tbody>\n",
       "    <tr>\n",
       "      <th>count</th>\n",
       "      <td>1000.000000</td>\n",
       "      <td>1000.000000</td>\n",
       "      <td>1000.000000</td>\n",
       "      <td>1000.000000</td>\n",
       "      <td>1.000000e+03</td>\n",
       "      <td>1.000000e+03</td>\n",
       "    </tr>\n",
       "    <tr>\n",
       "      <th>mean</th>\n",
       "      <td>1991.221000</td>\n",
       "      <td>122.891000</td>\n",
       "      <td>7.949300</td>\n",
       "      <td>78.133000</td>\n",
       "      <td>2.736929e+05</td>\n",
       "      <td>6.051360e+07</td>\n",
       "    </tr>\n",
       "    <tr>\n",
       "      <th>std</th>\n",
       "      <td>23.285669</td>\n",
       "      <td>28.093671</td>\n",
       "      <td>0.275491</td>\n",
       "      <td>11.368225</td>\n",
       "      <td>3.273727e+05</td>\n",
       "      <td>1.014192e+08</td>\n",
       "    </tr>\n",
       "    <tr>\n",
       "      <th>min</th>\n",
       "      <td>1920.000000</td>\n",
       "      <td>45.000000</td>\n",
       "      <td>7.600000</td>\n",
       "      <td>28.000000</td>\n",
       "      <td>2.508800e+04</td>\n",
       "      <td>1.305000e+03</td>\n",
       "    </tr>\n",
       "    <tr>\n",
       "      <th>25%</th>\n",
       "      <td>1976.000000</td>\n",
       "      <td>103.000000</td>\n",
       "      <td>7.700000</td>\n",
       "      <td>72.000000</td>\n",
       "      <td>5.552625e+04</td>\n",
       "      <td>5.012919e+06</td>\n",
       "    </tr>\n",
       "    <tr>\n",
       "      <th>50%</th>\n",
       "      <td>1999.000000</td>\n",
       "      <td>119.000000</td>\n",
       "      <td>7.900000</td>\n",
       "      <td>79.000000</td>\n",
       "      <td>1.385485e+05</td>\n",
       "      <td>2.353089e+07</td>\n",
       "    </tr>\n",
       "    <tr>\n",
       "      <th>75%</th>\n",
       "      <td>2009.000000</td>\n",
       "      <td>137.000000</td>\n",
       "      <td>8.100000</td>\n",
       "      <td>85.250000</td>\n",
       "      <td>3.741612e+05</td>\n",
       "      <td>6.153989e+07</td>\n",
       "    </tr>\n",
       "    <tr>\n",
       "      <th>max</th>\n",
       "      <td>2020.000000</td>\n",
       "      <td>321.000000</td>\n",
       "      <td>9.300000</td>\n",
       "      <td>100.000000</td>\n",
       "      <td>2.343110e+06</td>\n",
       "      <td>9.366622e+08</td>\n",
       "    </tr>\n",
       "  </tbody>\n",
       "</table>\n",
       "</div>"
      ],
      "text/plain": [
       "       Released_Year     Time_min  IMDB_Rating   Meta_score  Num_of_votes  \\\n",
       "count    1000.000000  1000.000000  1000.000000  1000.000000  1.000000e+03   \n",
       "mean     1991.221000   122.891000     7.949300    78.133000  2.736929e+05   \n",
       "std        23.285669    28.093671     0.275491    11.368225  3.273727e+05   \n",
       "min      1920.000000    45.000000     7.600000    28.000000  2.508800e+04   \n",
       "25%      1976.000000   103.000000     7.700000    72.000000  5.552625e+04   \n",
       "50%      1999.000000   119.000000     7.900000    79.000000  1.385485e+05   \n",
       "75%      2009.000000   137.000000     8.100000    85.250000  3.741612e+05   \n",
       "max      2020.000000   321.000000     9.300000   100.000000  2.343110e+06   \n",
       "\n",
       "              Gross  \n",
       "count  1.000000e+03  \n",
       "mean   6.051360e+07  \n",
       "std    1.014192e+08  \n",
       "min    1.305000e+03  \n",
       "25%    5.012919e+06  \n",
       "50%    2.353089e+07  \n",
       "75%    6.153989e+07  \n",
       "max    9.366622e+08  "
      ]
     },
     "execution_count": 22,
     "metadata": {},
     "output_type": "execute_result"
    }
   ],
   "source": [
    "movies_df.describe()\n"
   ]
  },
  {
   "cell_type": "code",
   "execution_count": 23,
   "id": "cda73774",
   "metadata": {},
   "outputs": [
    {
     "data": {
      "text/plain": [
       "False"
      ]
     },
     "execution_count": 23,
     "metadata": {},
     "output_type": "execute_result"
    }
   ],
   "source": [
    "# Finally check for any missing values in the whole DataFrame\n",
    "movies_df.isnull().any().any()"
   ]
  },
  {
   "cell_type": "code",
   "execution_count": 24,
   "id": "d90d94aa",
   "metadata": {},
   "outputs": [
    {
     "data": {
      "text/plain": [
       "Movie_title      0\n",
       "Released_Year    0\n",
       "Certificate      0\n",
       "Time_min         0\n",
       "Genre            0\n",
       "IMDB_Rating      0\n",
       "Meta_score       0\n",
       "Director         0\n",
       "Num_of_votes     0\n",
       "Gross            0\n",
       "dtype: int64"
      ]
     },
     "execution_count": 24,
     "metadata": {},
     "output_type": "execute_result"
    }
   ],
   "source": [
    "movies_df.isnull().sum()"
   ]
  },
  {
   "cell_type": "code",
   "execution_count": 25,
   "id": "a2db633a",
   "metadata": {},
   "outputs": [
    {
     "data": {
      "text/plain": [
       "(1000, 10)"
      ]
     },
     "execution_count": 25,
     "metadata": {},
     "output_type": "execute_result"
    }
   ],
   "source": [
    "#to ensure that the data frame remains complete without any losing in the rows or columns:\n",
    "movies_df.shape"
   ]
  },
  {
   "cell_type": "markdown",
   "id": "ad40331f",
   "metadata": {},
   "source": [
    "#### <div class=\"alert alert-danger\">3. Explore the data to identify the most popular genre of movies and TV shows using pandas.</div> \n"
   ]
  },
  {
   "cell_type": "code",
   "execution_count": 26,
   "id": "c51f7ba0",
   "metadata": {},
   "outputs": [
    {
     "name": "stdout",
     "output_type": "stream",
     "text": [
      "The most popular genre of movies and TV shows is: Drama\n"
     ]
    }
   ],
   "source": [
    "# Create a new DataFrame by exploding the genres\n",
    "# explode() transform a column containing iterable elements into multiple rows, with each element of the iterable occupying a separate row.\n",
    "exploded_genres = movies_df.Genre.explode()\n",
    "\n",
    "# Count the occurrences of each genre\n",
    "genre_counts = exploded_genres.value_counts()\n",
    "\n",
    "# Find the genre with the highest count\n",
    "# idxmax(),used to find the index label of the maximum value in a Series or DataFrame.\n",
    "most_popular_genre = genre_counts.idxmax()\n",
    "\n",
    "# Print the most popular genre\n",
    "print(\"The most popular genre of movies and TV shows is:\", most_popular_genre)\n"
   ]
  },
  {
   "cell_type": "markdown",
   "id": "8a465e07",
   "metadata": {},
   "source": [
    "#### <div class=\"alert alert-danger\">4. Create a new dataframe containing the count of movies/TV shows in each genre using pandas.</div> \n"
   ]
  },
  {
   "cell_type": "code",
   "execution_count": 27,
   "id": "df502a9b",
   "metadata": {},
   "outputs": [
    {
     "name": "stdout",
     "output_type": "stream",
     "text": [
      "        Genre  Count\n",
      "0       Drama    724\n",
      "1      Comedy    233\n",
      "2       Crime    209\n",
      "3   Adventure    196\n",
      "4      Action    189\n",
      "5    Thriller    137\n",
      "6     Romance    125\n",
      "7   Biography    109\n",
      "8     Mystery     99\n",
      "9   Animation     82\n",
      "10     Sci-Fi     67\n",
      "11    Fantasy     66\n",
      "12    History     56\n",
      "13     Family     56\n",
      "14        War     51\n",
      "15      Music     35\n",
      "16     Horror     32\n",
      "17    Western     20\n",
      "18  Film-Noir     19\n",
      "19      Sport     19\n",
      "20    Musical     17\n"
     ]
    }
   ],
   "source": [
    "# Create a new DataFrame by exploding the genres\n",
    "exploded_genres = movies_df.Genre.explode()\n",
    "\n",
    "# Count the occurrences of each genre\n",
    "genre_counts = exploded_genres.value_counts().reset_index()\n",
    "genre_counts.columns = ['Genre', 'Count']\n",
    "\n",
    "# Print the new DataFrame\n",
    "print(genre_counts)"
   ]
  },
  {
   "cell_type": "code",
   "execution_count": 28,
   "id": "ef46e51d",
   "metadata": {},
   "outputs": [
    {
     "name": "stdout",
     "output_type": "stream",
     "text": [
      "                           Genre  Count\n",
      "0                        [Drama]     85\n",
      "1               [Drama, Romance]     37\n",
      "2                [Comedy, Drama]     35\n",
      "3       [Comedy, Drama, Romance]     31\n",
      "4         [Action, Crime, Drama]     30\n",
      "..                           ...    ...\n",
      "197        [Adventure, Thriller]      1\n",
      "198  [Animation, Action, Sci-Fi]      1\n",
      "199      [Action, Crime, Comedy]      1\n",
      "200  [Animation, Crime, Mystery]      1\n",
      "201     [Adventure, Comedy, War]      1\n",
      "\n",
      "[202 rows x 2 columns]\n"
     ]
    }
   ],
   "source": [
    "#And here are all the groups of the category mentioned without separating them and the number of their existence.\n",
    "#This can provide some insights and understanding of the overall diversity and variety of genres represented in the dataset.\n",
    "#and This can indicate the popularity and widespread appeal of those genres among viewers.\n",
    "#On the other hand, may also come across lesser-known or niche genres that have a smaller representation in the dataset\n",
    "#indicating popular genre mash-ups or hybrid genres that can attract viewers.\n",
    "\n",
    "# Create a new DataFrame with the count of movies/TV shows in each genre\n",
    "genre_count = movies_df['Genre'].value_counts().reset_index()\n",
    "genre_count.columns = ['Genre', 'Count']\n",
    "\n",
    "# Print the new DataFrame\n",
    "print(genre_count)\n",
    "\n"
   ]
  },
  {
   "cell_type": "markdown",
   "id": "0a71e6b8",
   "metadata": {},
   "source": [
    "Here for example the most famous and came in the first place is the type of pure drama, followed by drama with romance, then drama with comedy,and so on.on the other hand, and there are categories with the lowest level of fame, and so on."
   ]
  },
  {
   "cell_type": "markdown",
   "id": "8952e103",
   "metadata": {},
   "source": [
    "#### <div class=\"alert alert-danger\">5. Visualize the data using a bar chart to show the most popular genre of movies/TV shows using pandas and the matplotlib library.</div> \n"
   ]
  },
  {
   "cell_type": "code",
   "execution_count": 29,
   "id": "92ea023c",
   "metadata": {},
   "outputs": [
    {
     "data": {
      "image/png": "[encoded data removed]",
      "text/plain": [
       "<Figure size 864x432 with 1 Axes>"
      ]
     },
     "metadata": {
      "needs_background": "light"
     },
     "output_type": "display_data"
    }
   ],
   "source": [
    "fig, ax = plt.subplots(figsize=(12, 6))  # Specify the size in inches\n",
    "genre_counts.plot(x='Genre', y='Count', kind='bar', color='indianred', ax=ax) # plots the bar chart using the plot() method\n",
    "#specifie the x-axis as the 'Genre',the y-axis as the 'Count', and the chart type as a bar chart.then color parameter and the ax=ax parameter assigns the plot to the specified axes object ax.\n",
    "#add additional customization to the plot:\n",
    "plt.title('Most Popular Genre of Movies/TV Shows')\n",
    "plt.xlabel('Genre')\n",
    "plt.ylabel('Number Of Movies/TV Shows')\n",
    "plt.xticks(rotation=45)\n",
    "plt.tight_layout() #this line adjusts the spacing between subplots to prevent overlapping elements.\n",
    "plt.show() #display the plot on the screen."
   ]
  },
  {
   "cell_type": "markdown",
   "id": "becdc678",
   "metadata": {},
   "source": [
    "> In addition that the dramatic genre have the highest level of fame, it also surpasses all others by a large differance. On the other hand,the remaining genres show little differences from one genre to the next."
   ]
  },
  {
   "cell_type": "markdown",
   "id": "6335f506",
   "metadata": {},
   "source": [
    "#### <div class=\"alert alert-danger\">6. Identify the director with the most top-rated movies/TV shows by creating a new dataframe containing the count of movies/TV shows directed by each director using pandas.</div> \n"
   ]
  },
  {
   "cell_type": "markdown",
   "id": "209a394c",
   "metadata": {},
   "source": [
    "Directors who directed the largest number of films in the dataframe:"
   ]
  },
  {
   "cell_type": "code",
   "execution_count": 30,
   "id": "c864ddf5",
   "metadata": {},
   "outputs": [
    {
     "name": "stdout",
     "output_type": "stream",
     "text": [
      " The director who has directed the most films :\n",
      "( Alfred Hitchcock )\n",
      "-----------the top ten-----------\n",
      "            Director  Count\n",
      "0   Alfred Hitchcock     14\n",
      "1   Steven Spielberg     13\n",
      "2     Hayao Miyazaki     11\n",
      "3    Martin Scorsese     10\n",
      "4     Akira Kurosawa     10\n",
      "5    Stanley Kubrick      9\n",
      "6       Billy Wilder      9\n",
      "7        Woody Allen      9\n",
      "8  Christopher Nolan      8\n",
      "9  Quentin Tarantino      8\n"
     ]
    }
   ],
   "source": [
    "# Group the DataFrame by director and count the occurrences\n",
    "director_counts = movies_df['Director'].value_counts().reset_index()\n",
    "\n",
    "# Rename the columns of the new DataFrame\n",
    "director_counts.columns = ['Director', 'Count']\n",
    "\n",
    "# Sort the DataFrame by the count in descending order\n",
    "director_counts = director_counts.sort_values('Count', ascending=False)\n",
    "#selects the first row of the director_counts DataFrame,then selects the value in the first column of the selected row.\n",
    "top_director = director_counts.iloc[0][0]\n",
    "print(\" The director who has directed the most films :\")\n",
    "print(\"(\",top_director,\")\")\n",
    "# Print the new DataFrame,this is the top ten too:\n",
    "print(\"-----------the top ten-----------\")\n",
    "print(director_counts[:10])"
   ]
  },
  {
   "cell_type": "markdown",
   "id": "5ff06a0c",
   "metadata": {},
   "source": [
    "Top 10  directors by average Meta Score:"
   ]
  },
  {
   "cell_type": "code",
   "execution_count": 31,
   "id": "fecb924e",
   "metadata": {},
   "outputs": [
    {
     "name": "stdout",
     "output_type": "stream",
     "text": [
      " The director who has the highest average Meta Score:\n",
      "( Frank Darabont )\n",
      "-----------Top ten----------\n",
      "Top 10 active directors by average Meta Score:\n",
      "             Director  IMDB_Rating\n",
      "0      Frank Darabont         8.95\n",
      "1      Irvin Kershner         8.70\n",
      "2      Lana Wachowski         8.70\n",
      "3        George Lucas         8.60\n",
      "4     Roberto Benigni         8.60\n",
      "5    Masaki Kobayashi         8.60\n",
      "6         Thomas Kail         8.60\n",
      "7       Sudha Kongara         8.60\n",
      "8  Fernando Meirelles         8.60\n",
      "9        Roger Allers         8.50\n"
     ]
    }
   ],
   "source": [
    "# Group the data by director and calculate the average Meta Score\n",
    "director_scores = movies_df.groupby('Director')['IMDB_Rating'].mean().reset_index()\n",
    "\n",
    "# Sort the directors based on average Meta Score in descending order\n",
    "top_directors = director_scores.sort_values('IMDB_Rating', ascending=False).head(10).reset_index()\n",
    "top_director_meta=top_directors.iloc[0][1]\n",
    "# Remove the index column\n",
    "top_directors = top_directors.drop('index', axis=1)\n",
    "\n",
    "print(\" The director who has the highest average Meta Score:\")\n",
    "print(\"(\",top_director_meta,\")\")\n",
    "\n",
    "# Print the top 10 directors\n",
    "print(\"-----------Top ten----------\")\n",
    "print(\"Top 10 active directors by average Meta Score:\")\n",
    "print(top_directors)"
   ]
  },
  {
   "cell_type": "markdown",
   "id": "ea35797f",
   "metadata": {},
   "source": [
    "#### <div class=\"alert alert-danger\">7. Visualize the data using a bar chart to show the director with the most top-rated movies/TV shows using pandas and matplotlib.</div> \n"
   ]
  },
  {
   "cell_type": "code",
   "execution_count": 32,
   "id": "cba09985",
   "metadata": {},
   "outputs": [
    {
     "data": {
      "image/png": "[encoded data removed]",
      "text/plain": [
       "<Figure size 576x432 with 1 Axes>"
      ]
     },
     "metadata": {
      "needs_background": "light"
     },
     "output_type": "display_data"
    }
   ],
   "source": [
    "# Count the occurrences of each director\n",
    "director_counts = movies_df['Director'].value_counts().head(10)\n",
    "\n",
    "# Plot the bar chart\n",
    "plt.figure(figsize=(8, 6)) #specifie size of 8 inches by 6 inches.\n",
    "sns.countplot(x=movies_df['Director'], order=director_counts.index, color='indianred') #creates a countplot using sns.countplot()\n",
    "plt.title('Director VS the number of films') #add a title to the plot\n",
    "plt.xlabel('Director') #set the x-axis label as 'Director'\n",
    "plt.ylabel('number of films') #set the y-axis label as 'number of films'.\n",
    "plt.yticks(np.arange(0, 15, 1))#for more legible readings y_axes tick locations will be spaced evenly from 0 to 15, with a step size of 1.\n",
    "plt.xticks(rotation=45) #rotates the x-axis tick labels by 45 degrees for better readability.\n",
    "plt.tight_layout() #adjusts the spacing between subplots to prevent overlapping elements.\n",
    "plt.show() #displays the plot on the screen\n",
    "## range of values for the top ten :(8-14)"
   ]
  },
  {
   "cell_type": "code",
   "execution_count": 33,
   "id": "a2de935d",
   "metadata": {},
   "outputs": [
    {
     "data": {
      "image/png": "[encoded data removed]",
      "text/plain": [
       "<Figure size 576x432 with 1 Axes>"
      ]
     },
     "metadata": {
      "needs_background": "light"
     },
     "output_type": "display_data"
    }
   ],
   "source": [
    "# Create a bar chart\n",
    "plt.figure(figsize=(8, 6))\n",
    "plt.bar(top_directors['Director'], top_directors['IMDB_Rating'], color='indianred')\n",
    "\n",
    "# Add labels and title\n",
    "plt.title('Top 10 Directors by Average Meta Score')\n",
    "plt.xlabel('Director')\n",
    "plt.ylabel('Average Meta Score')\n",
    "plt.yticks(np.arange(0, 10, 0.5)) # for more legible readings y_axes tick locations will be spaced evenly from 0 to 10, with a step size of 0.5.\n",
    "plt.xticks(rotation=45)\n",
    "\n",
    "# Display the chart\n",
    "plt.tight_layout() #adjusts the spacing between subplots or plot elements to prevent overlapping\n",
    "plt.show()\n",
    "## range of values for the top ten : (8.5-8.95)"
   ]
  },
  {
   "cell_type": "markdown",
   "id": "1057e7f2",
   "metadata": {},
   "source": [
    "> **One more thing for more information related to this branch:**\n",
    "Here I have presented the top movie with highest IMDB Rating and the director who directed each of them\n",
    "*to get an idea of the directors who directed the highest rated films*"
   ]
  },
  {
   "cell_type": "code",
   "execution_count": 34,
   "id": "715c79d4",
   "metadata": {},
   "outputs": [],
   "source": [
    "#top movie with Highest IMDB Rating:\n",
    "top_10_movies=movies_df.sort_values('IMDB_Rating', ascending=False).head(10)  #sorting based on IMDB ratings.\n",
    "#top_10_movies"
   ]
  },
  {
   "cell_type": "code",
   "execution_count": 35,
   "id": "67ccf342",
   "metadata": {},
   "outputs": [
    {
     "data": {
      "image/png": "[encoded data removed]",
      "text/plain": [
       "<Figure size 864x360 with 1 Axes>"
      ]
     },
     "metadata": {
      "needs_background": "light"
     },
     "output_type": "display_data"
    }
   ],
   "source": [
    "# Combine the movie title and director name for each film\n",
    "top_10_movies['Movie_Info'] = top_10_movies['Movie_title'] + ' (' + top_10_movies['Director'] + ')'\n",
    "\n",
    "# Plot the bar chart:\n",
    "plt.figure(figsize=(12, 5))\n",
    "sns.barplot(x='IMDB_Rating', y='Movie_Info', data=top_10_movies, color='indianred')\n",
    "plt.title('IMDB_Rating of top 10 movies in IMDB top 1000 list')\n",
    "plt.xlabel('IMDB_Rating')\n",
    "plt.ylabel('Movie Title and Director')\n",
    "plt.xticks(np.arange(0, 10, 0.5))\n",
    "plt.xticks(rotation=90)  # Rotate x-axis labels by 90 degrees\n",
    "plt.tight_layout()\n",
    "plt.show() \n",
    "# range of values for the top ten : (8.8-9.3)"
   ]
  },
  {
   "cell_type": "markdown",
   "id": "448dbcd1",
   "metadata": {},
   "source": [
    "#### <div class=\"alert alert-danger\">8. a) Write a report summarizing your analysis and findings,using markdown cells in the Jupyter notebook.</div> \n"
   ]
  },
  {
   "cell_type": "markdown",
   "id": "3430b5f7",
   "metadata": {},
   "source": [
    "###  <font color=indianred> ***Analysis Report: Top Movies and TV Shows Analysis*** </font> \n",
    "In this analysis, we explored a dataset containing information about the top 1000 movies and TV shows from IMDB. Our goal was to gain insights into the dataframe, identify the most popular genres, and determine the directors with the most top-rated productions.\n",
    "I have tried to clarify most of various aspects in the previous steps, and here i would like to provide a concise summary that encompasses the key findings obtained from the analysis.\n",
    "\n",
    "<font color=indianred> ***Data Cleaning and Preprocessing:*** </font> \n",
    "- I loaded the dataset into a pandas DataFrame and performed initial data exploration.\n",
    "- I identified missing values in the 'Certificate', 'Meta_score', and 'Gross' columns and handled them.\n",
    "- I converted the data type in some columns to a suitable type for analysis after verifying all the values so that the entire column can be converted correctly.and some other procedures to ensure that all data is ready to be dealt with and analyzed.\n",
    "\n",
    "<font color=indianred> ***Most Popular Genres:*** </font> \n",
    "We analyzed the dataset to identify the most popular genres among the top movies and TV shows.\n",
    "By splitting the 'Genre' column,we counted the occurrences of each genre.the genre with the highest count represented the most popular genre.\n",
    "The most popular genre among the top movies and TV shows was **Drama**, followed by **Comedy** and **Crime**, dramatic genre surpasses all others by a large differance,and the other genres show little differences between them.and to visually represent this difference,i am used a bar chart that highlights the contrast between different genres.\n",
    "\n",
    "<font color=indianred> ***Director with the Most Top-rated Productions:*** </font> \n",
    "i examined the dataset to identify the director with the most top-rated movies and TV shows.\n",
    "by creating a new DataFrame and counting the occurrences of each director, we determined the director with the highest count,and this is what i got:\n",
    "- the director who has directed the most films is: **Alfred Hitchcock**\n",
    "- the director who has the highest average Meta Score is: **Frank Darabont**\n",
    "- the director who directed the highest rated movie is: **Frank Darabont** \n",
    "\n",
    "So the analysis of the top movies and TV shows dataset provided valuable insights into the most popular genres and the directors with the most top-rated productions.\n",
    "\n"
   ]
  },
  {
   "cell_type": "markdown",
   "id": "e75d8259",
   "metadata": {},
   "source": [
    "#### <div class=\"alert alert-danger\">8.b) including any insights or observations you discovered.</div> \n",
    "\n"
   ]
  },
  {
   "cell_type": "markdown",
   "id": "062dbafb",
   "metadata": {},
   "source": [
    "here a few additional analyzes can be applied to understand the data more:"
   ]
  },
  {
   "cell_type": "markdown",
   "id": "c359a6dc",
   "metadata": {},
   "source": [
    "> - <font color=brown> ***Calculating the correlation between the numeric columns to try to find any relation between them,and the strength of the correlation increases as the value approaches 1 or -1.*** </font> \n"
   ]
  },
  {
   "cell_type": "code",
   "execution_count": 36,
   "id": "1994fcc8",
   "metadata": {},
   "outputs": [
    {
     "name": "stdout",
     "output_type": "stream",
     "text": [
      "               Released_Year  Time_min  IMDB_Rating  Meta_score  Num_of_votes  \\\n",
      "Released_Year       1.000000  0.165873    -0.131152   -0.293873      0.241779   \n",
      "Time_min            0.165873  1.000000     0.243096   -0.026361      0.173264   \n",
      "IMDB_Rating        -0.131152  0.243096     1.000000    0.258650      0.494979   \n",
      "Meta_score         -0.293873 -0.026361     0.258650    1.000000     -0.026940   \n",
      "Num_of_votes        0.241779  0.173264     0.494979   -0.026940      1.000000   \n",
      "Gross               0.232582  0.138353     0.085518   -0.051889      0.588428   \n",
      "\n",
      "                  Gross  \n",
      "Released_Year  0.232582  \n",
      "Time_min       0.138353  \n",
      "IMDB_Rating    0.085518  \n",
      "Meta_score    -0.051889  \n",
      "Num_of_votes   0.588428  \n",
      "Gross          1.000000  \n"
     ]
    }
   ],
   "source": [
    "# Calculate the correlation matrix\n",
    "correlation_matrix = movies_df.corr()\n",
    "\n",
    "# Print the correlation matrix\n",
    "print(correlation_matrix)"
   ]
  },
  {
   "cell_type": "markdown",
   "id": "6584729d",
   "metadata": {},
   "source": [
    "here that most of the values of the correlation between the columns are weak, and the most two highest values:\n",
    "- correlation between the Num_of_votes column and Gross column with value : 0.588428\n",
    "- correlation between the Num_of_votes column and IMDB_Rating column with value : 0.494979\n",
    "- However, the correlation remains weak between columns in this data frame,there are no strong relationships between them, and this was not expected,especially for example between the columns of rating and voting values with the Gross column."
   ]
  },
  {
   "cell_type": "markdown",
   "id": "c00f7107",
   "metadata": {},
   "source": [
    "> - <font color=brown> ***Here I drew the box plot for the columns(`Gross,IMDB_Rating,Meta_score`).this allows us to get an idea of where the data is concentrated in each column, and also to know the outliers and their range.*** </font> \n"
   ]
  },
  {
   "cell_type": "code",
   "execution_count": 37,
   "id": "a3e8e192",
   "metadata": {},
   "outputs": [
    {
     "data": {
      "image/png": "[encoded data removed]",
      "text/plain": [
       "<Figure size 864x432 with 3 Axes>"
      ]
     },
     "metadata": {
      "needs_background": "light"
     },
     "output_type": "display_data"
    }
   ],
   "source": [
    "#import matplotlib.pyplot as plt\n",
    "\n",
    "# Create a figure with subplots\n",
    "fig, axs = plt.subplots(1, 3, figsize=(12, 6)) #figure with subplots,creates 1 row and 3 columns of subplots and set the size.\n",
    "\n",
    "# Plot box plots for each column\n",
    "#first subplot:\n",
    "axs[0].boxplot(movies_df['Gross'].dropna())\n",
    "axs[0].set_title('Box Plot of Gross')\n",
    "axs[0].set_ylabel('Gross')\n",
    "#second subplot:\n",
    "axs[1].boxplot(movies_df['IMDB_Rating'])\n",
    "axs[1].set_title('Box Plot of IMDB Rating')\n",
    "axs[1].set_ylabel('IMDB Rating')\n",
    "#third subplot:\n",
    "axs[2].boxplot(movies_df['Meta_score'].dropna())\n",
    "axs[2].set_title('Box Plot of Meta Score')\n",
    "axs[2].set_ylabel('Meta Score')\n",
    "\n",
    "# Adjust the spacing between subplots\n",
    "plt.subplots_adjust(wspace=0.4)\n",
    "\n",
    "# Display the plot\n",
    "plt.show()\n"
   ]
  },
  {
   "cell_type": "markdown",
   "id": "bda731f5",
   "metadata": {},
   "source": [
    "- `Gross column`: most of the data is concentrated in a specific area, and 75% of it is under the value 61 million, and there are many films that exceeded the rate and achieved relatively huge profits.(highest value 930 million)\n",
    "- `IMDB Rating column`: most of IMDB ratings between these 7.6 and 8.1, with some films that got a very high rating and differed from the rest.(highest value 9.3)\n",
    "- `Meta Score column` :most of the films got a high rating , and some of movies got a 100 rating, and there are outliers values for some films that got a low rating (lowest value 28)"
   ]
  },
  {
   "cell_type": "markdown",
   "id": "8233e4d1",
   "metadata": {},
   "source": [
    "> - <font color=brown> ***I have plotted histograms for another numerical columns to gain a better understanding of the data distribution and to visualize how the data is represented within each column:.*** </font> \n"
   ]
  },
  {
   "cell_type": "code",
   "execution_count": 38,
   "id": "60abee74",
   "metadata": {},
   "outputs": [
    {
     "data": {
      "image/png": "[encoded data removed]",
      "text/plain": [
       "<Figure size 1080x432 with 4 Axes>"
      ]
     },
     "metadata": {
      "needs_background": "light"
     },
     "output_type": "display_data"
    }
   ],
   "source": [
    "#defines a list that contains the names of the numerical columns i want to plot histograms for:\n",
    "numerical_attributes = ['Time_min','Released_Year','Num_of_votes','IMDB_Rating']\n",
    "#generates histograms\n",
    "movies_df[numerical_attributes].hist(figsize = (15, 6), color = 'indianred', edgecolor = 'red', layout = (2, 2));\n"
   ]
  },
  {
   "cell_type": "markdown",
   "id": "c074f1b1",
   "metadata": {},
   "source": [
    "- The majority of films are categorized within a medium time range of 75 to 150 minutes, with a small percentage representing shorter films and few long films exceeding the typical duration.\n",
    "- The films are distributed over the years and their number increases,as the highest number of films was produced in the time period from 2000 to 2020.\n",
    "- The majority of films received a similar range of votes, with a percentage of films receiving significantly more votes than the majority. and the highest number of votes received by a film was nearly 2.3 million votes.\n",
    "- The majority of films have ratings between 7.6 and 8.1,indicating the highest number of films in this range.however, there are relatively few films that received exceptionally high ratings, reaching in maximum 9.3/10."
   ]
  },
  {
   "cell_type": "markdown",
   "id": "e5c8aa87",
   "metadata": {},
   "source": [
    "> - <font color=brown> ***Given that several films have received a full meta-score rating (100/100), I wanted to examine whether the IMDB rating  was also  high and nearly identical for these films:*** </font> "
   ]
  },
  {
   "cell_type": "code",
   "execution_count": 39,
   "id": "26b2252c",
   "metadata": {},
   "outputs": [
    {
     "data": {
      "text/html": [
       "<div>\n",
       "<style scoped>\n",
       "    .dataframe tbody tr th:only-of-type {\n",
       "        vertical-align: middle;\n",
       "    }\n",
       "\n",
       "    .dataframe tbody tr th {\n",
       "        vertical-align: top;\n",
       "    }\n",
       "\n",
       "    .dataframe thead th {\n",
       "        text-align: right;\n",
       "    }\n",
       "</style>\n",
       "<table border=\"1\" class=\"dataframe\">\n",
       "  <thead>\n",
       "    <tr style=\"text-align: right;\">\n",
       "      <th></th>\n",
       "      <th>Movie_title</th>\n",
       "      <th>Released_Year</th>\n",
       "      <th>Certificate</th>\n",
       "      <th>Time_min</th>\n",
       "      <th>Genre</th>\n",
       "      <th>IMDB_Rating</th>\n",
       "      <th>Meta_score</th>\n",
       "      <th>Director</th>\n",
       "      <th>Num_of_votes</th>\n",
       "      <th>Gross</th>\n",
       "    </tr>\n",
       "  </thead>\n",
       "  <tbody>\n",
       "    <tr>\n",
       "      <th>1</th>\n",
       "      <td>The Godfather</td>\n",
       "      <td>1972</td>\n",
       "      <td>A</td>\n",
       "      <td>175</td>\n",
       "      <td>[Crime, Drama]</td>\n",
       "      <td>9.2</td>\n",
       "      <td>100.0</td>\n",
       "      <td>Francis Ford Coppola</td>\n",
       "      <td>1620367</td>\n",
       "      <td>134966411.0</td>\n",
       "    </tr>\n",
       "    <tr>\n",
       "      <th>50</th>\n",
       "      <td>Casablanca</td>\n",
       "      <td>1942</td>\n",
       "      <td>U</td>\n",
       "      <td>102</td>\n",
       "      <td>[Drama, Romance, War]</td>\n",
       "      <td>8.5</td>\n",
       "      <td>100.0</td>\n",
       "      <td>Michael Curtiz</td>\n",
       "      <td>522093</td>\n",
       "      <td>1024560.0</td>\n",
       "    </tr>\n",
       "    <tr>\n",
       "      <th>81</th>\n",
       "      <td>Rear Window</td>\n",
       "      <td>1954</td>\n",
       "      <td>U</td>\n",
       "      <td>112</td>\n",
       "      <td>[Mystery, Thriller]</td>\n",
       "      <td>8.4</td>\n",
       "      <td>100.0</td>\n",
       "      <td>Alfred Hitchcock</td>\n",
       "      <td>444074</td>\n",
       "      <td>36764313.0</td>\n",
       "    </tr>\n",
       "    <tr>\n",
       "      <th>116</th>\n",
       "      <td>Lawrence of Arabia</td>\n",
       "      <td>1962</td>\n",
       "      <td>U</td>\n",
       "      <td>228</td>\n",
       "      <td>[Adventure, Biography, Drama]</td>\n",
       "      <td>8.3</td>\n",
       "      <td>100.0</td>\n",
       "      <td>David Lean</td>\n",
       "      <td>268085</td>\n",
       "      <td>44824144.0</td>\n",
       "    </tr>\n",
       "    <tr>\n",
       "      <th>119</th>\n",
       "      <td>Vertigo</td>\n",
       "      <td>1958</td>\n",
       "      <td>A</td>\n",
       "      <td>128</td>\n",
       "      <td>[Mystery, Romance, Thriller]</td>\n",
       "      <td>8.3</td>\n",
       "      <td>100.0</td>\n",
       "      <td>Alfred Hitchcock</td>\n",
       "      <td>364368</td>\n",
       "      <td>3200000.0</td>\n",
       "    </tr>\n",
       "    <tr>\n",
       "      <th>124</th>\n",
       "      <td>Citizen Kane</td>\n",
       "      <td>1941</td>\n",
       "      <td>UA</td>\n",
       "      <td>119</td>\n",
       "      <td>[Drama, Mystery]</td>\n",
       "      <td>8.3</td>\n",
       "      <td>100.0</td>\n",
       "      <td>Orson Welles</td>\n",
       "      <td>403351</td>\n",
       "      <td>1585634.0</td>\n",
       "    </tr>\n",
       "    <tr>\n",
       "      <th>260</th>\n",
       "      <td>Trois couleurs: Rouge</td>\n",
       "      <td>1994</td>\n",
       "      <td>U</td>\n",
       "      <td>99</td>\n",
       "      <td>[Drama, Mystery, Romance]</td>\n",
       "      <td>8.1</td>\n",
       "      <td>100.0</td>\n",
       "      <td>Krzysztof Kieslowski</td>\n",
       "      <td>90729</td>\n",
       "      <td>4043686.0</td>\n",
       "    </tr>\n",
       "    <tr>\n",
       "      <th>274</th>\n",
       "      <td>Fanny och Alexander</td>\n",
       "      <td>1982</td>\n",
       "      <td>A</td>\n",
       "      <td>188</td>\n",
       "      <td>[Drama]</td>\n",
       "      <td>8.1</td>\n",
       "      <td>100.0</td>\n",
       "      <td>Ingmar Bergman</td>\n",
       "      <td>57784</td>\n",
       "      <td>4971340.0</td>\n",
       "    </tr>\n",
       "    <tr>\n",
       "      <th>423</th>\n",
       "      <td>Il conformista</td>\n",
       "      <td>1970</td>\n",
       "      <td>UA</td>\n",
       "      <td>113</td>\n",
       "      <td>[Drama]</td>\n",
       "      <td>8.0</td>\n",
       "      <td>100.0</td>\n",
       "      <td>Bernardo Bertolucci</td>\n",
       "      <td>27067</td>\n",
       "      <td>541940.0</td>\n",
       "    </tr>\n",
       "    <tr>\n",
       "      <th>440</th>\n",
       "      <td>Sweet Smell of Success</td>\n",
       "      <td>1957</td>\n",
       "      <td>Approved</td>\n",
       "      <td>96</td>\n",
       "      <td>[Drama, Film-Noir]</td>\n",
       "      <td>8.0</td>\n",
       "      <td>100.0</td>\n",
       "      <td>Alexander Mackendrick</td>\n",
       "      <td>28137</td>\n",
       "      <td>23530892.0</td>\n",
       "    </tr>\n",
       "    <tr>\n",
       "      <th>491</th>\n",
       "      <td>Boyhood</td>\n",
       "      <td>2014</td>\n",
       "      <td>A</td>\n",
       "      <td>165</td>\n",
       "      <td>[Drama]</td>\n",
       "      <td>7.9</td>\n",
       "      <td>100.0</td>\n",
       "      <td>Richard Linklater</td>\n",
       "      <td>335533</td>\n",
       "      <td>25379975.0</td>\n",
       "    </tr>\n",
       "    <tr>\n",
       "      <th>559</th>\n",
       "      <td>Notorious</td>\n",
       "      <td>1946</td>\n",
       "      <td>U</td>\n",
       "      <td>102</td>\n",
       "      <td>[Drama, Film-Noir, Romance]</td>\n",
       "      <td>7.9</td>\n",
       "      <td>100.0</td>\n",
       "      <td>Alfred Hitchcock</td>\n",
       "      <td>92306</td>\n",
       "      <td>10464000.0</td>\n",
       "    </tr>\n",
       "  </tbody>\n",
       "</table>\n",
       "</div>"
      ],
      "text/plain": [
       "                Movie_title  Released_Year Certificate  Time_min  \\\n",
       "1             The Godfather           1972           A       175   \n",
       "50               Casablanca           1942           U       102   \n",
       "81              Rear Window           1954           U       112   \n",
       "116      Lawrence of Arabia           1962           U       228   \n",
       "119                 Vertigo           1958           A       128   \n",
       "124            Citizen Kane           1941          UA       119   \n",
       "260   Trois couleurs: Rouge           1994           U        99   \n",
       "274     Fanny och Alexander           1982           A       188   \n",
       "423          Il conformista           1970          UA       113   \n",
       "440  Sweet Smell of Success           1957    Approved        96   \n",
       "491                 Boyhood           2014           A       165   \n",
       "559               Notorious           1946           U       102   \n",
       "\n",
       "                             Genre  IMDB_Rating  Meta_score  \\\n",
       "1                   [Crime, Drama]          9.2       100.0   \n",
       "50           [Drama, Romance, War]          8.5       100.0   \n",
       "81             [Mystery, Thriller]          8.4       100.0   \n",
       "116  [Adventure, Biography, Drama]          8.3       100.0   \n",
       "119   [Mystery, Romance, Thriller]          8.3       100.0   \n",
       "124               [Drama, Mystery]          8.3       100.0   \n",
       "260      [Drama, Mystery, Romance]          8.1       100.0   \n",
       "274                        [Drama]          8.1       100.0   \n",
       "423                        [Drama]          8.0       100.0   \n",
       "440             [Drama, Film-Noir]          8.0       100.0   \n",
       "491                        [Drama]          7.9       100.0   \n",
       "559    [Drama, Film-Noir, Romance]          7.9       100.0   \n",
       "\n",
       "                  Director  Num_of_votes        Gross  \n",
       "1     Francis Ford Coppola       1620367  134966411.0  \n",
       "50          Michael Curtiz        522093    1024560.0  \n",
       "81        Alfred Hitchcock        444074   36764313.0  \n",
       "116             David Lean        268085   44824144.0  \n",
       "119       Alfred Hitchcock        364368    3200000.0  \n",
       "124           Orson Welles        403351    1585634.0  \n",
       "260   Krzysztof Kieslowski         90729    4043686.0  \n",
       "274         Ingmar Bergman         57784    4971340.0  \n",
       "423    Bernardo Bertolucci         27067     541940.0  \n",
       "440  Alexander Mackendrick         28137   23530892.0  \n",
       "491      Richard Linklater        335533   25379975.0  \n",
       "559       Alfred Hitchcock         92306   10464000.0  "
      ]
     },
     "execution_count": 39,
     "metadata": {},
     "output_type": "execute_result"
    }
   ],
   "source": [
    "#movies with 100.0 Meta Score and their IMDB Ratings\n",
    "#meta_score_movies=movies_df[movies_df.Meta_score !='No Meta score']  #not considering data with no meta score\n",
    "mov_100_Meta = movies_df[ movies_df.Meta_score==100]   #data with meta score 100\n",
    "mov_100_Meta"
   ]
  },
  {
   "cell_type": "code",
   "execution_count": 40,
   "id": "1fad3211",
   "metadata": {},
   "outputs": [
    {
     "data": {
      "image/png": "[encoded data removed]",
      "text/plain": [
       "<Figure size 720x360 with 1 Axes>"
      ]
     },
     "metadata": {
      "needs_background": "light"
     },
     "output_type": "display_data"
    }
   ],
   "source": [
    "plt.figure(figsize=(10, 5))     #plotting movies with 100 meta score vs their IMDB ratings.\n",
    "sns.barplot(x='IMDB_Rating', y='Movie_title', data=mov_100_Meta,color='indianred');\n",
    "plt.title('IMDB Rating comparision of movies with Meta Score 100.0');"
   ]
  },
  {
   "cell_type": "markdown",
   "id": "fdf1f2f1",
   "metadata": {},
   "source": [
    "While 12 films have the same high Meta Score(100/100), there is a notable difference in the evaluation IMDB_Rating values.this suggests that the IMDB_Rating may takes into account additional factors or considerations, resulting in varying ratings despite the films sharing the same Meta Score.\n",
    "\n",
    "It is noteworthy that the directors in this list were not repeated, with the exception of one that was repeated three times, (the director : Alfred Hitchcock),the director of the largest number of films,as previously shown to us\n",
    "and the drama here was present in 10 of the films on this list from 12 films.\n"
   ]
  },
  {
   "cell_type": "markdown",
   "id": "bdc50cf6",
   "metadata": {},
   "source": [
    "> -  <font color=brown> ***Since it was previously observed that the correlation between the IMDB_rating column and Gross was weak, I will try to find out if the films with the highest IMDB_rating also achieve high gross.\n",
    " I will display a chart to illustrate this relationship:*** </font> \n"
   ]
  },
  {
   "cell_type": "code",
   "execution_count": 41,
   "id": "2fe783f4",
   "metadata": {},
   "outputs": [
    {
     "data": {
      "image/png": "[encoded data removed]",
      "text/plain": [
       "<Figure size 2160x504 with 2 Axes>"
      ]
     },
     "metadata": {
      "needs_background": "light"
     },
     "output_type": "display_data"
    }
   ],
   "source": [
    "# Sort the dataframe by IMDB_Rating in descending order\n",
    "sorted_movies_df = movies_df.sort_values('IMDB_Rating', ascending=False)\n",
    "\n",
    "# Select the top 7 films with the highest IMDB ratings\n",
    "top_movies = sorted_movies_df[:10]\n",
    "\n",
    "# Create a figure and axes\n",
    "fig, ax = plt.subplots(figsize=(30, 7))\n",
    "\n",
    "# Plot the IMDB Rating\n",
    "sns.barplot(x=top_movies['Movie_title'], y=top_movies['IMDB_Rating'], color='indianred', ax=ax)\n",
    "ax.set_title(\"IMDB Rating and Gross of Top 7 Films\", weight=\"bold\")\n",
    "\n",
    "# Create a second y-axis\n",
    "ax2 = ax.twinx()\n",
    "\n",
    "# Plot the Gross\n",
    "sns.barplot(x=top_movies['Movie_title'], y=top_movies['Gross'], color='brown', ax=ax2)\n",
    "\n",
    "# Set the y-axis label for the second plot\n",
    "ax2.set_ylabel('Gross', color='brown')\n",
    "\n",
    "# Set the x-axis label\n",
    "ax.set_xlabel('Film')\n",
    "\n",
    "# Show the plot\n",
    "plt.show()\n"
   ]
  },
  {
   "cell_type": "markdown",
   "id": "9f88a354",
   "metadata": {},
   "source": [
    "All of these films have high and close IMDB ratings, but there is a high disparity in the profits achieved by each film. Some of them achieved high profits like (The Dark Knight), and some achieve little profits despite their high rating like (12 Angry Men),and some of them achieved medium profits,as shown in the drawing."
   ]
  },
  {
   "cell_type": "markdown",
   "id": "ee0350d9",
   "metadata": {},
   "source": [
    "> - <font color=brown> ***I repeated what the previous cell did, but swapped the gross with the number of votes column to check whether the high rating means more votes for the high rated films.*** </font> \n"
   ]
  },
  {
   "cell_type": "code",
   "execution_count": 42,
   "id": "e1f0e8ba",
   "metadata": {},
   "outputs": [
    {
     "data": {
      "image/png": "[encoded data removed]",
      "text/plain": [
       "<Figure size 2160x504 with 2 Axes>"
      ]
     },
     "metadata": {
      "needs_background": "light"
     },
     "output_type": "display_data"
    }
   ],
   "source": [
    "# Select the top 7 films with the highest IMDB ratings\n",
    "top_movies = sorted_movies_df[:10]\n",
    "\n",
    "# Create a figure and axes\n",
    "fig, ax = plt.subplots(figsize=(30, 7))\n",
    "\n",
    "# Plot the IMDB Rating\n",
    "sns.barplot(x=top_movies['Movie_title'], y=top_movies['IMDB_Rating'], color='indianred', ax=ax)\n",
    "ax.set_title(\"IMDB Rating and Number of Votes of Top 7 Films\", weight=\"bold\")\n",
    "\n",
    "# Create a second y-axis\n",
    "ax2 = ax.twinx()\n",
    "\n",
    "# Plot the Number of Votes\n",
    "sns.barplot(x=top_movies['Movie_title'], y=top_movies['Num_of_votes'], color='brown', ax=ax2)\n",
    "\n",
    "# Set the y-axis label for the second plot\n",
    "ax2.set_ylabel('Number of Votes', color='brown')\n",
    "\n",
    "# Set the x-axis label\n",
    "ax.set_xlabel('Film')\n",
    "\n",
    "# Show the plot\n",
    "plt.show()\n"
   ]
  },
  {
   "cell_type": "markdown",
   "id": "c4dfaa29",
   "metadata": {},
   "source": [
    "A good number of columns here show a large percentage of votes, so there is some agreement between the viewer's opinion and the IMDB rating."
   ]
  },
  {
   "cell_type": "markdown",
   "id": "e4066c89",
   "metadata": {},
   "source": [
    "> - <font color=brown>**Does the distribution of films and their profits correlate with the passage of years?**</font>"
   ]
  },
  {
   "cell_type": "code",
   "execution_count": 44,
   "id": "b2272dff",
   "metadata": {},
   "outputs": [
    {
     "data": {
      "image/png": "[encoded data removed]",
      "text/plain": [
       "<Figure size 432x288 with 1 Axes>"
      ]
     },
     "metadata": {
      "needs_background": "light"
     },
     "output_type": "display_data"
    }
   ],
   "source": [
    "# Create a scatter plot with regression line\n",
    "sns.regplot(x=movies_df['Released_Year'], y=movies_df['Gross'], scatter_kws={'color': 'indianred'}, line_kws={'color': 'brown'})\n",
    "\n",
    "# Set the title and labels\n",
    "plt.title('Relationship between Released Year and Gross')\n",
    "plt.xlabel('Released Year')\n",
    "plt.ylabel('Gross')\n",
    "\n",
    "# Show the plot\n",
    "plt.show()\n"
   ]
  },
  {
   "cell_type": "markdown",
   "id": "b766f2c6",
   "metadata": {},
   "source": [
    "- Here we note that the first years the **profits were close to each other**, and with the passage of the years the differences became larger until they reached very large differences in recent years, so there may be a movie that achieved very high profits, and some don't achieve much and can cause a loss for their producer.\n",
    "- and the number of produced films increases over the years."
   ]
  },
  {
   "cell_type": "markdown",
   "id": "8ef85d7f",
   "metadata": {},
   "source": [
    "> -  <font color=brown> ***Maximum number of movies released in:*** </font> \n"
   ]
  },
  {
   "cell_type": "code",
   "execution_count": 45,
   "id": "6ae4bc63",
   "metadata": {},
   "outputs": [
    {
     "data": {
      "image/png": "[encoded data removed]",
      "text/plain": [
       "<Figure size 1440x360 with 1 Axes>"
      ]
     },
     "metadata": {
      "needs_background": "light"
     },
     "output_type": "display_data"
    }
   ],
   "source": [
    "fig,axs=plt.subplots(figsize=(20,5))\n",
    "g=sns.barplot(x=movies_df['Released_Year'].value_counts()[:10].index,y=movies_df['Released_Year'].value_counts()[:10],color = 'indianred')\n",
    "g.set_title(\"Maximum Series released in-\")\n",
    "g.set_xlabel(\"Years\")\n",
    "plt.show()"
   ]
  },
  {
   "cell_type": "markdown",
   "id": "0903f110",
   "metadata": {},
   "source": [
    "> - <font color=brown> ***The number of films produced in each certificate:*** </font> \n"
   ]
  },
  {
   "cell_type": "code",
   "execution_count": 46,
   "id": "c902f1ce",
   "metadata": {},
   "outputs": [
    {
     "name": "stderr",
     "output_type": "stream",
     "text": [
      "C:\\Users\\HP\\anaconda3\\lib\\site-packages\\seaborn\\_decorators.py:36: FutureWarning: Pass the following variable as a keyword arg: x. From version 0.12, the only valid positional argument will be `data`, and passing other arguments without an explicit keyword will result in an error or misinterpretation.\n",
      "  warnings.warn(\n"
     ]
    },
    {
     "data": {
      "image/png": "[encoded data removed]",
      "text/plain": [
       "<Figure size 1440x360 with 1 Axes>"
      ]
     },
     "metadata": {
      "needs_background": "light"
     },
     "output_type": "display_data"
    }
   ],
   "source": [
    "certificates=movies_df[movies_df['Certificate']!='Unknown']['Certificate']\n",
    "fig,axs=plt.subplots(figsize=(20,5))\n",
    "g=sns.countplot(certificates,color = 'indianred')\n",
    "g.set_title(\"Count of Certificates provided\", weight = \"bold\")\n",
    "plt.show()"
   ]
  },
  {
   "cell_type": "markdown",
   "id": "584e328d",
   "metadata": {},
   "source": [
    " Most frequent Certificate:\n",
    "- 'A' (Adults Only)\n",
    "-  'UA' (Unrestricted Public Exhibition-Adults)\n",
    "-  'U' (Universal)\n",
    "-  'R' (Restricted) "
   ]
  },
  {
   "cell_type": "markdown",
   "id": "135acdd7",
   "metadata": {},
   "source": [
    "> - <font color=brown> ***The movies that generated the highest revenue:*** </font> \n",
    "\n"
   ]
  },
  {
   "cell_type": "code",
   "execution_count": 47,
   "id": "6afdceb4",
   "metadata": {
    "scrolled": true
   },
   "outputs": [
    {
     "data": {
      "image/png": "[encoded data removed]",
      "text/plain": [
       "<Figure size 2160x360 with 1 Axes>"
      ]
     },
     "metadata": {
      "needs_background": "light"
     },
     "output_type": "display_data"
    }
   ],
   "source": [
    "highest_earning = movies_df.sort_values(['Gross'], ascending = False)\n",
    "fig,axs=plt.subplots(figsize=(30,5))\n",
    "g=sns.barplot(x=highest_earning['Movie_title'][:10],y=highest_earning['Gross'][:10], color = 'indianred')\n",
    "g.set_title(\"Movies with highest Gross\")\n",
    "plt.show()"
   ]
  },
  {
   "cell_type": "markdown",
   "id": "5176a169",
   "metadata": {},
   "source": [
    "### <font color=brown>These were some of the `general` analyzes and insights that can be derived from the available data.</font>\n",
    "<font color=indianred> **In the end, data analysis includes many details and concepts and more advanced technical and mathematical solutions may be applied,this depends mainly on the analysis requirements and the information that needs to be extracted from the data.** </font>"
   ]
  },
  {
   "cell_type": "code",
   "execution_count": null,
   "id": "2db7445c",
   "metadata": {},
   "outputs": [],
   "source": []
  }
 ],
 "metadata": {
  "kernelspec": {
   "display_name": "Python 3 (ipykernel)",
   "language": "python",
   "name": "python3"
  },
  "language_info": {
   "codemirror_mode": {
    "name": "ipython",
    "version": 3
   },
   "file_extension": ".py",
   "mimetype": "text/x-python",
   "name": "python",
   "nbconvert_exporter": "python",
   "pygments_lexer": "ipython3",
   "version": "3.9.12"
  }
 },
 "nbformat": 4,
 "nbformat_minor": 5
}
